{
 "cells": [
  {
   "cell_type": "markdown",
   "metadata": {},
   "source": [
    "### Advent Of Code Day 2: Dive! part 2"
   ]
  },
  {
   "cell_type": "code",
   "execution_count": 1,
   "metadata": {},
   "outputs": [],
   "source": [
    "import numpy as np\n",
    "import pandas as pd"
   ]
  },
  {
   "cell_type": "code",
   "execution_count": 10,
   "metadata": {},
   "outputs": [
    {
     "data": {
      "text/html": [
       "<div>\n",
       "<style scoped>\n",
       "    .dataframe tbody tr th:only-of-type {\n",
       "        vertical-align: middle;\n",
       "    }\n",
       "\n",
       "    .dataframe tbody tr th {\n",
       "        vertical-align: top;\n",
       "    }\n",
       "\n",
       "    .dataframe thead th {\n",
       "        text-align: right;\n",
       "    }\n",
       "</style>\n",
       "<table border=\"1\" class=\"dataframe\">\n",
       "  <thead>\n",
       "    <tr style=\"text-align: right;\">\n",
       "      <th></th>\n",
       "      <th>direction</th>\n",
       "      <th>value</th>\n",
       "    </tr>\n",
       "  </thead>\n",
       "  <tbody>\n",
       "    <tr>\n",
       "      <th>0</th>\n",
       "      <td>forward</td>\n",
       "      <td>9</td>\n",
       "    </tr>\n",
       "    <tr>\n",
       "      <th>1</th>\n",
       "      <td>down</td>\n",
       "      <td>9</td>\n",
       "    </tr>\n",
       "    <tr>\n",
       "      <th>2</th>\n",
       "      <td>down</td>\n",
       "      <td>6</td>\n",
       "    </tr>\n",
       "    <tr>\n",
       "      <th>3</th>\n",
       "      <td>up</td>\n",
       "      <td>2</td>\n",
       "    </tr>\n",
       "    <tr>\n",
       "      <th>4</th>\n",
       "      <td>down</td>\n",
       "      <td>5</td>\n",
       "    </tr>\n",
       "  </tbody>\n",
       "</table>\n",
       "</div>"
      ],
      "text/plain": [
       "  direction  value\n",
       "0   forward      9\n",
       "1      down      9\n",
       "2      down      6\n",
       "3        up      2\n",
       "4      down      5"
      ]
     },
     "execution_count": 10,
     "metadata": {},
     "output_type": "execute_result"
    }
   ],
   "source": [
    "df = pd.read_csv(\"./input\", sep = \" \", names = ['direction', 'value'])\n",
    "df.head()"
   ]
  },
  {
   "cell_type": "code",
   "execution_count": 11,
   "metadata": {},
   "outputs": [
    {
     "name": "stdout",
     "output_type": "stream",
     "text": [
      "<class 'pandas.core.frame.DataFrame'>\n",
      "RangeIndex: 1000 entries, 0 to 999\n",
      "Data columns (total 2 columns):\n",
      " #   Column     Non-Null Count  Dtype \n",
      "---  ------     --------------  ----- \n",
      " 0   direction  1000 non-null   object\n",
      " 1   value      1000 non-null   int64 \n",
      "dtypes: int64(1), object(1)\n",
      "memory usage: 15.8+ KB\n"
     ]
    }
   ],
   "source": [
    "df.info()"
   ]
  },
  {
   "cell_type": "code",
   "execution_count": 12,
   "metadata": {},
   "outputs": [
    {
     "name": "stdout",
     "output_type": "stream",
     "text": [
      "Horizontal final value:  2199\n",
      "Depth final value:  786\n",
      "Multiplied final value:  1728414\n"
     ]
    }
   ],
   "source": [
    "# First part\n",
    "\n",
    "horizontal = 0\n",
    "depth = 0\n",
    "\n",
    "horizontal = df.loc[df['direction'] == 'forward', 'value'].sum()\n",
    "depth =  df.loc[df['direction'] == 'down', 'value'].sum() - df.loc[df['direction'] == 'up', 'value'].sum()\n",
    "\n",
    "print(\"Horizontal final value: \", horizontal);\n",
    "print(\"Depth final value: \", depth);\n",
    "print(\"Multiplied final value: \", depth * horizontal);"
   ]
  },
  {
   "cell_type": "code",
   "execution_count": 14,
   "metadata": {},
   "outputs": [
    {
     "name": "stdout",
     "output_type": "stream",
     "text": [
      "Horizontal final value:  2199\n",
      "Depth final value:  802965\n",
      "Aim final value:  786\n",
      "Multiplied final value:  1765720035\n"
     ]
    }
   ],
   "source": [
    "# Second Part\n",
    "\n",
    "horizontal = 0\n",
    "aim = 0\n",
    "depth = 0\n",
    "\n",
    "for k, row in df.iterrows():\n",
    "    if row['direction'] == 'forward':\n",
    "        horizontal+= row['value']\n",
    "        depth += aim * row['value']\n",
    "\n",
    "    if row['direction'] == 'down':\n",
    "        aim += row['value']\n",
    "    \n",
    "    if row['direction'] == 'up':\n",
    "        aim -= row['value']\n",
    "\n",
    "\n",
    "print(\"Horizontal final value: \", horizontal);\n",
    "print(\"Depth final value: \", depth);\n",
    "print(\"Aim final value: \", aim)\n",
    "print(\"Multiplied final value: \", depth * horizontal);"
   ]
  }
 ],
 "metadata": {
  "interpreter": {
   "hash": "916dbcbb3f70747c44a77c7bcd40155683ae19c65e1c03b4aa3499c5328201f1"
  },
  "kernelspec": {
   "display_name": "Python 3.8.10 64-bit",
   "language": "python",
   "name": "python3"
  },
  "language_info": {
   "codemirror_mode": {
    "name": "ipython",
    "version": 3
   },
   "file_extension": ".py",
   "mimetype": "text/x-python",
   "name": "python",
   "nbconvert_exporter": "python",
   "pygments_lexer": "ipython3",
   "version": "3.8.10"
  },
  "orig_nbformat": 4
 },
 "nbformat": 4,
 "nbformat_minor": 2
}
