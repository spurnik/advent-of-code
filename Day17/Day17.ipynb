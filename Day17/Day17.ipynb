{
 "cells": [
  {
   "cell_type": "markdown",
   "metadata": {},
   "source": [
    "### Advent Of Code Day 17: Trick Shot"
   ]
  },
  {
   "cell_type": "markdown",
   "metadata": {},
   "source": [
    "**Part One:** Compute the maximum height of the shots that cause the probe to be within the target area in some step."
   ]
  },
  {
   "cell_type": "code",
   "execution_count": 4,
   "metadata": {},
   "outputs": [],
   "source": [
    "import numpy as np\n",
    "targetAreaX = np.arange(240, 293)\n",
    "targetAreaY = np.arange(-90, -56)"
   ]
  },
  {
   "cell_type": "code",
   "execution_count": 5,
   "metadata": {},
   "outputs": [],
   "source": [
    "MAX_ITERATIONS = 1000\n",
    "\n",
    "def shot(x, y, dx, dy):\n",
    "    \"\"\" Yields the resulting shot positions for the first 1000 iterations \"\"\"\n",
    "    j = 0\n",
    "    while j < MAX_ITERATIONS:\n",
    "        yield x + dx, y + dy\n",
    "        x += dx\n",
    "        y += dy\n",
    "        if dx > 0: dx -= 1\n",
    "        if dx < 0: dx += 1\n",
    "        dy -= 1\n",
    "        j += 1"
   ]
  },
  {
   "cell_type": "code",
   "execution_count": 6,
   "metadata": {},
   "outputs": [
    {
     "name": "stdout",
     "output_type": "stream",
     "text": [
      "The maximizing height is: (4005, 22, 89)\n"
     ]
    }
   ],
   "source": [
    "# First Approach: exhaustive search\n",
    "maxHeights = [] # List of maximun heights for valid shots\n",
    "\n",
    "i = 0\n",
    "\n",
    "# For each considered initial velocity,  \n",
    "for initDx in range(21, 24):  \n",
    "    for initDy in range(0, MAX_ITERATIONS // 2):\n",
    "        #if not i % 10: print(i)\n",
    "\n",
    "        # Compute the resulting shot until we exactly know \n",
    "        # it won't reach the ocean trench (y < targetArea y's)\n",
    "        \n",
    "        maxHeight = targetAreaY[0]\n",
    "        for x, y in shot(0, 0, initDx, initDy):\n",
    "            if maxHeight < y: maxHeight = y\n",
    "            if x in targetAreaX and y in targetAreaY:\n",
    "                maxHeights.append((maxHeight, initDx, initDy))\n",
    "                break\n",
    "    \n",
    "print(\"The maximizing height is:\", max(maxHeights, key = lambda x: x[0]))"
   ]
  },
  {
   "cell_type": "markdown",
   "metadata": {},
   "source": [
    "**Part Two:** Compute the all the initial velocities that cause the probe to be within the target area in some step."
   ]
  },
  {
   "cell_type": "code",
   "execution_count": 7,
   "metadata": {},
   "outputs": [
    {
     "name": "stdout",
     "output_type": "stream",
     "text": [
      "Different x velocity component possible initial values: 149\n"
     ]
    }
   ],
   "source": [
    "# I want to compute the initial x velocities that make the prove to be in the xArea (no y considered)\n",
    "initialVelocitiesX = set()\n",
    "\n",
    "for initDx in range(0, targetAreaX[-1] + 1):\n",
    "    for x, _ in shot(0, 0, initDx, 0):\n",
    "        if x in targetAreaX: initialVelocitiesX.add(initDx)\n",
    "\n",
    "print(\"Different x velocity component possible initial values:\", len(initialVelocitiesX))"
   ]
  },
  {
   "cell_type": "code",
   "execution_count": 8,
   "metadata": {},
   "outputs": [
    {
     "data": {
      "text/plain": [
       "2953"
      ]
     },
     "execution_count": 8,
     "metadata": {},
     "output_type": "execute_result"
    }
   ],
   "source": [
    "# Now the same with y velocities: compute how many y velocity components match the requirements for each matching x component\n",
    "initialVelocities = set()\n",
    "\n",
    "for initDx in initialVelocitiesX:\n",
    "    for initDy in range(targetAreaY[0], 89 + 1): # 89 is the maximizing Y component, from the first Part\n",
    "\n",
    "        for x, y in shot(0, 0, initDx, initDy):\n",
    "            #if y < targetAreaY[0]: break\n",
    "\n",
    "            if x in targetAreaX and y in targetAreaY:\n",
    "                initialVelocities.add((initDx, initDy))\n",
    "                #break\n",
    "\n",
    "len(initialVelocities)"
   ]
  }
 ],
 "metadata": {
  "interpreter": {
   "hash": "916dbcbb3f70747c44a77c7bcd40155683ae19c65e1c03b4aa3499c5328201f1"
  },
  "kernelspec": {
   "display_name": "Python 3.8.10 64-bit",
   "language": "python",
   "name": "python3"
  },
  "language_info": {
   "codemirror_mode": {
    "name": "ipython",
    "version": 3
   },
   "file_extension": ".py",
   "mimetype": "text/x-python",
   "name": "python",
   "nbconvert_exporter": "python",
   "pygments_lexer": "ipython3",
   "version": "3.8.10"
  },
  "orig_nbformat": 4
 },
 "nbformat": 4,
 "nbformat_minor": 2
}
