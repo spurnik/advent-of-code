{
 "cells": [
  {
   "cell_type": "markdown",
   "metadata": {},
   "source": [
    "### Advent Of Code Day 13: Transparent Origami"
   ]
  },
  {
   "cell_type": "code",
   "execution_count": 6,
   "metadata": {},
   "outputs": [
    {
     "data": {
      "text/plain": [
       "983"
      ]
     },
     "execution_count": 6,
     "metadata": {},
     "output_type": "execute_result"
    }
   ],
   "source": [
    "dotListX, dotListY = [], []\n",
    "\n",
    "with open(\"./input\", 'r') as file:\n",
    "    for line in file:\n",
    "        if line == \"\\n\": break\n",
    "        dotListX.append(int(line.split(\",\")[0]))\n",
    "        dotListY.append(int(line.split(\",\")[1][:-1]))\n",
    "\n",
    "len(dotListX)"
   ]
  },
  {
   "cell_type": "markdown",
   "metadata": {},
   "source": [
    "**Part One** Only complete first fold"
   ]
  },
  {
   "cell_type": "code",
   "execution_count": 144,
   "metadata": {},
   "outputs": [],
   "source": [
    "# Hardcode list of fold instructions\n",
    "instructions = [(655, 0), (0, 447), (327, 0), (0, 223), (163, 0), (0, 111), (81, 0), (0, 55), (40, 0), (0, 27), (0, 13), (0, 6)]"
   ]
  },
  {
   "cell_type": "code",
   "execution_count": 145,
   "metadata": {},
   "outputs": [
    {
     "data": {
      "text/plain": [
       "(895, 1311)"
      ]
     },
     "execution_count": 145,
     "metadata": {},
     "output_type": "execute_result"
    }
   ],
   "source": [
    "# Which shape do we need? The instructions will tell us:\n",
    "shapeY, shapeX = max(instructions, key = lambda x: x[0])[0] * 2 + 1, max(instructions, key = lambda x: x[1])[1] * 2 + 1\n",
    "shapeX, shapeY"
   ]
  },
  {
   "cell_type": "code",
   "execution_count": 146,
   "metadata": {},
   "outputs": [],
   "source": [
    "# Build the dotGrid matrix\n",
    "import numpy as np\n",
    "\n",
    "dotGrid = np.zeros((shapeX, shapeY), dtype = bool)\n",
    "\n",
    "# Note the index inversion (x for row axis, y for column axis)\n",
    "for dotX, dotY in zip(dotListX, dotListY): dotGrid[dotY, dotX] = True"
   ]
  },
  {
   "cell_type": "code",
   "execution_count": 147,
   "metadata": {},
   "outputs": [],
   "source": [
    "def foldX(dotGrid, x):\n",
    "    \"\"\" Right - Left fold \"\"\"\n",
    "    for j in range(x): dotGrid[:, x - 1 - j] = dotGrid[:, x - 1 - j] | dotGrid[:, x + 1 + j]\n",
    "    return dotGrid[:, :x]\n",
    "\n",
    "def foldY(dotGrid, y):\n",
    "    \"\"\" Down - Up fold \"\"\"\n",
    "    for i in range(y): dotGrid[y - 1 - i, :] = dotGrid[y - 1 - i, :] | dotGrid[y + 1 + i, :]\n",
    "    return dotGrid[:y, : ]"
   ]
  },
  {
   "cell_type": "code",
   "execution_count": 148,
   "metadata": {},
   "outputs": [],
   "source": [
    "def fold(dotGrid, instr):\n",
    "    \"\"\" Performs the tuple instruction fold \"\"\"\n",
    "    if instr[0]: return foldX(dotGrid, instr[0])\n",
    "    elif instr[1]: return foldY(dotGrid, instr[1])"
   ]
  },
  {
   "cell_type": "code",
   "execution_count": 149,
   "metadata": {},
   "outputs": [
    {
     "data": {
      "text/plain": [
       "810"
      ]
     },
     "execution_count": 149,
     "metadata": {},
     "output_type": "execute_result"
    }
   ],
   "source": [
    "# Part One: only one fold!\n",
    "dotGridAfterFirstFold = fold(dotGrid, instructions[0])\n",
    "len(dotGridAfterFirstFold.nonzero()[0])"
   ]
  },
  {
   "cell_type": "markdown",
   "metadata": {},
   "source": [
    "**Part Two:** finish folding the grid and get the eight capital letters code"
   ]
  },
  {
   "cell_type": "code",
   "execution_count": 160,
   "metadata": {},
   "outputs": [
    {
     "name": "stdout",
     "output_type": "stream",
     "text": [
      "# . . # . # . . . . # # # . . # . . # . # # # . . . # # . . # # # # . # # # . . \n",
      "# . . # . # . . . . # . . # . # . . # . # . . # . # . . # . # . . . . # . . # . \n",
      "# # # # . # . . . . # # # . . # . . # . # # # . . # . . . . # # # . . # . . # . \n",
      "# . . # . # . . . . # . . # . # . . # . # . . # . # . # # . # . . . . # # # . . \n",
      "# . . # . # . . . . # . . # . # . . # . # . . # . # . . # . # . . . . # . # . . \n",
      "# . . # . # # # # . # # # . . . # # . . # # # . . . # # # . # . . . . # . . # . \n"
     ]
    }
   ],
   "source": [
    "# Reinitiallize the dotGrid\n",
    "dotGrid = np.zeros((shapeX, shapeY), dtype = bool)\n",
    "for dotX, dotY in zip(dotListX, dotListY): dotGrid[dotY, dotX] = True\n",
    "\n",
    "for foldInstr in instructions:\n",
    "    dotGrid = fold(dotGrid, foldInstr)\n",
    "\n",
    "for row in dotGrid:\n",
    "    for value in row:\n",
    "        if not value: print(\".\", end = \" \")\n",
    "        else: print(\"#\", end = \" \")\n",
    "    print()"
   ]
  }
 ],
 "metadata": {
  "interpreter": {
   "hash": "916dbcbb3f70747c44a77c7bcd40155683ae19c65e1c03b4aa3499c5328201f1"
  },
  "kernelspec": {
   "display_name": "Python 3.8.10 64-bit",
   "language": "python",
   "name": "python3"
  },
  "language_info": {
   "codemirror_mode": {
    "name": "ipython",
    "version": 3
   },
   "file_extension": ".py",
   "mimetype": "text/x-python",
   "name": "python",
   "nbconvert_exporter": "python",
   "pygments_lexer": "ipython3",
   "version": "3.8.10"
  },
  "orig_nbformat": 4
 },
 "nbformat": 4,
 "nbformat_minor": 2
}
