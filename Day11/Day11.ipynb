{
 "cells": [
  {
   "cell_type": "markdown",
   "metadata": {},
   "source": [
    "### Advent Of Code Day 11: Dumbo Octopus"
   ]
  },
  {
   "cell_type": "markdown",
   "metadata": {},
   "source": [
    "**Part One**"
   ]
  },
  {
   "cell_type": "code",
   "execution_count": 86,
   "metadata": {},
   "outputs": [
    {
     "data": {
      "text/plain": [
       "(10, 10)"
      ]
     },
     "execution_count": 86,
     "metadata": {},
     "output_type": "execute_result"
    }
   ],
   "source": [
    "# Fetch the lines\n",
    "\n",
    "import numpy as np\n",
    "\n",
    "with open(\"./input\") as file:\n",
    "    lines = [[int(value) for value in line[:-1]] for line in file ]\n",
    "\n",
    "flashInput = np.array(lines)\n",
    "flashInput.shape"
   ]
  },
  {
   "cell_type": "code",
   "execution_count": 87,
   "metadata": {},
   "outputs": [],
   "source": [
    "# Infinity norm distance between two n-dimensional vectors\n",
    "def inf_distance(nd1, nd2): return max(abs(id1 - id2) for id1, id2 in zip(nd1, nd2))\n",
    "\n",
    "def flashBall(shape, origin):\n",
    "    \"\"\" Given an nd-index, return the ball of nd-indexes that are far at most one index from it \"\"\"\n",
    "    return [ndindex for ndindex in np.ndindex(shape) if inf_distance(ndindex, origin) <= 1]"
   ]
  },
  {
   "cell_type": "code",
   "execution_count": 93,
   "metadata": {},
   "outputs": [],
   "source": [
    "def flashTime(flashGrid):\n",
    "    \"\"\" Performs the pulp flashing operation over the grid. \"\"\"\n",
    "    \n",
    "    flashSet = set() # Flashing pulps\n",
    "\n",
    "    # Recursively increase the pulp flash values over the grid \n",
    "    for ndindex in np.ndindex(flashGrid.shape): \n",
    "        increaseMe(flashGrid, ndindex, flashSet)\n",
    "    \n",
    "    # Reset the flash value for each flashed pulp\n",
    "    for ndindex in flashSet: flashGrid[ndindex] = 0\n",
    "    \n",
    "    # Return the total number of flashed pulps\n",
    "    return len(flashSet)\n",
    "\n",
    "def increaseMe(flashGrid, ndindex, flashSet):\n",
    "    \"\"\" Increase the flash value and - if its gonna flash - increase the flash value of the adjacents \"\"\"\n",
    "    flashGrid[ndindex] += 1\n",
    "    if ndindex not in flashSet and flashGrid[ndindex] > 9: \n",
    "        flashSet.add(ndindex)\n",
    "        for ndNeighbor in flashBall(flashGrid.shape, ndindex):\n",
    "            increaseMe(flashGrid, ndNeighbor, flashSet)"
   ]
  },
  {
   "cell_type": "code",
   "execution_count": 104,
   "metadata": {},
   "outputs": [],
   "source": [
    "flashGrid = flashInput.copy()"
   ]
  },
  {
   "cell_type": "code",
   "execution_count": 105,
   "metadata": {},
   "outputs": [
    {
     "data": {
      "text/plain": [
       "1691"
      ]
     },
     "execution_count": 105,
     "metadata": {},
     "output_type": "execute_result"
    }
   ],
   "source": [
    "flashCount = 0\n",
    "for i in range(100): \n",
    "    flashCount += flashTime(flashGrid)\n",
    "\n",
    "flashCount"
   ]
  },
  {
   "cell_type": "markdown",
   "metadata": {},
   "source": [
    "**Part Two**"
   ]
  },
  {
   "cell_type": "code",
   "execution_count": 107,
   "metadata": {},
   "outputs": [
    {
     "data": {
      "text/plain": [
       "216"
      ]
     },
     "execution_count": 107,
     "metadata": {},
     "output_type": "execute_result"
    }
   ],
   "source": [
    "flashGrid = flashInput.copy()\n",
    "numberOfPulps = flashGrid.size\n",
    "flashIter = 1\n",
    "while flashTime(flashGrid) != numberOfPulps:\n",
    "    flashIter += 1\n",
    "\n",
    "flashIter"
   ]
  }
 ],
 "metadata": {
  "interpreter": {
   "hash": "916dbcbb3f70747c44a77c7bcd40155683ae19c65e1c03b4aa3499c5328201f1"
  },
  "kernelspec": {
   "display_name": "Python 3.8.10 64-bit",
   "language": "python",
   "name": "python3"
  },
  "language_info": {
   "codemirror_mode": {
    "name": "ipython",
    "version": 3
   },
   "file_extension": ".py",
   "mimetype": "text/x-python",
   "name": "python",
   "nbconvert_exporter": "python",
   "pygments_lexer": "ipython3",
   "version": "3.8.10"
  },
  "orig_nbformat": 4
 },
 "nbformat": 4,
 "nbformat_minor": 2
}
