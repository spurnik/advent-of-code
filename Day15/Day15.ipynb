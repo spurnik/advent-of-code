{
 "cells": [
  {
   "cell_type": "markdown",
   "metadata": {},
   "source": [
    "### Advent Of Code Day 15: Chiton"
   ]
  },
  {
   "cell_type": "code",
   "execution_count": 78,
   "metadata": {},
   "outputs": [
    {
     "data": {
      "text/plain": [
       "(100, 100)"
      ]
     },
     "execution_count": 78,
     "metadata": {},
     "output_type": "execute_result"
    }
   ],
   "source": [
    "import numpy as np\n",
    "\n",
    "riskLevel = []\n",
    "\n",
    "with open(\"./input\", 'r') as file:\n",
    "    for line in file:\n",
    "        riskLevel.append([int(risk) for risk in line[:-1]])\n",
    "\n",
    "riskLevel = np.array(riskLevel)\n",
    "riskLevel.shape"
   ]
  },
  {
   "cell_type": "code",
   "execution_count": 79,
   "metadata": {},
   "outputs": [],
   "source": [
    "# I can use Dijkstra or UCS for searching the best path among all the possible solutions\n",
    "\n",
    "import util\n",
    "\n",
    "def uniformCostSearch(riskLevel, terminalState):\n",
    "    \"\"\"Search the node of least total cost first.\"\"\"\n",
    "\n",
    "    table = dict() # States lookup table for rebuilding the path\n",
    "    container = util.PriorityQueue() # Priority FIFO container as frontier\n",
    "\n",
    "    # Node encoding: (state, parent, action, accumulated cost) \n",
    "    # Zero start state priority as it cost nothing to get there\n",
    "    start_node = ((0, 0), None, None, 0)\n",
    "    container.push(start_node, 0) \n",
    "\n",
    "    while not container.isEmpty():\n",
    "        node = container.pop()\n",
    "        state, parent, action, cost = node\n",
    "\n",
    "        # If the state hasn't been visited or it has but with greater cost,\n",
    "        # updates its table entry with its new node relevant information.\n",
    "        if state not in table or cost < table[state][2]:\n",
    "            table[state] = (parent, action, cost)\n",
    "\n",
    "            # Ends searching if its a goal state\n",
    "            if state == terminalState: break\n",
    "\n",
    "            legalActions = []\n",
    "            if state[0] < terminalState[0]: legalActions.append((1,0))\n",
    "            if state[1] < terminalState[1]: legalActions.append((0,1))\n",
    "            if state[0] > 0: legalActions.append((-1, 0))\n",
    "            if state[1] > 0: legalActions.append((0, -1))\n",
    "            \n",
    "            # For each of its successors, create a node and push it to the container\n",
    "            for next_action in legalActions:\n",
    "                next_state = (state[0] + next_action[0], state[1] + next_action[1])\n",
    "                next_cost = cost + riskLevel[next_state]\n",
    "                \n",
    "                # UCS's priority: g(n) (accumulated cost from start node)\n",
    "                priority = next_cost\n",
    "                container.push((next_state, state, next_action, next_cost), priority)\n",
    "\n",
    "    return getPathSolution(state, table), cost\n",
    "\n",
    "def getPathSolution(state, table):\n",
    "    \"\"\" Gets the action path solution, beggining from the last visited state. \"\"\"\n",
    "\n",
    "    path = []\n",
    "    if state not in table: return path\n",
    "\n",
    "    # Reconstruct the path by going backwards throught the lookup table,\n",
    "    # while there's still actions to append.\n",
    "    previous_state, action, cost = table[state]\n",
    "\n",
    "    while action:\n",
    "        path.append(previous_state)\n",
    "        previous_state, action, cost = table[previous_state]\n",
    "    \n",
    "    return path[::-1]\n"
   ]
  },
  {
   "cell_type": "code",
   "execution_count": 80,
   "metadata": {},
   "outputs": [
    {
     "data": {
      "text/plain": [
       "472"
      ]
     },
     "execution_count": 80,
     "metadata": {},
     "output_type": "execute_result"
    }
   ],
   "source": [
    "bestPath, pathCost = uniformCostSearch(riskLevel, (99, 99))\n",
    "pathCost"
   ]
  },
  {
   "cell_type": "markdown",
   "metadata": {},
   "source": [
    "**Part Two**\n",
    "\n",
    "The only difference is the larger risk map. "
   ]
  },
  {
   "cell_type": "code",
   "execution_count": 81,
   "metadata": {},
   "outputs": [
    {
     "data": {
      "text/plain": [
       "(500, 500)"
      ]
     },
     "execution_count": 81,
     "metadata": {},
     "output_type": "execute_result"
    }
   ],
   "source": [
    "# New Risk Level for each tile repeated ro the right or down\n",
    "def newRiskLevel(riskLevel, i, j): return (riskLevel + i + j - 1) % 9 + 1\n",
    "\n",
    "# Build your larger risk map using the numpy's block function\n",
    "newRiskMap = np.block([[newRiskLevel(riskLevel, i, j) for j in range(5)] for i in range(5)])\n",
    "newRiskMap.shape"
   ]
  },
  {
   "cell_type": "code",
   "execution_count": 82,
   "metadata": {},
   "outputs": [
    {
     "data": {
      "text/plain": [
       "2851"
      ]
     },
     "execution_count": 82,
     "metadata": {},
     "output_type": "execute_result"
    }
   ],
   "source": [
    "# Rock and Roll!\n",
    "bestPath, pathCost = uniformCostSearch(newRiskMap, (499, 499))\n",
    "pathCost"
   ]
  }
 ],
 "metadata": {
  "interpreter": {
   "hash": "916dbcbb3f70747c44a77c7bcd40155683ae19c65e1c03b4aa3499c5328201f1"
  },
  "kernelspec": {
   "display_name": "Python 3.8.10 64-bit",
   "language": "python",
   "name": "python3"
  },
  "language_info": {
   "codemirror_mode": {
    "name": "ipython",
    "version": 3
   },
   "file_extension": ".py",
   "mimetype": "text/x-python",
   "name": "python",
   "nbconvert_exporter": "python",
   "pygments_lexer": "ipython3",
   "version": "3.8.10"
  },
  "orig_nbformat": 4
 },
 "nbformat": 4,
 "nbformat_minor": 2
}
