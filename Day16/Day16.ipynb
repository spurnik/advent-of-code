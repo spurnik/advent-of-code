{
 "cells": [
  {
   "cell_type": "markdown",
   "metadata": {},
   "source": [
    "### Advent Of Code Day 16: Packet Decoder"
   ]
  },
  {
   "cell_type": "code",
   "execution_count": 3,
   "metadata": {},
   "outputs": [
    {
     "data": {
      "text/plain": [
       "1332"
      ]
     },
     "execution_count": 3,
     "metadata": {},
     "output_type": "execute_result"
    }
   ],
   "source": [
    "inputCode = \"0052E4A00905271049796FB8872A0D25B9FB746893847236200B4F0BCE5194401C9B9E3F9C63992C8931A65A1CCC0D222100511A00BCBA647D98BE29A397005E55064A9DFEEC86600BD002AF2343A91A1CCE773C26600D126B69D15A6793BFCE2775D9E4A9002AB86339B5F9AB411A15CCAF10055B3EFFC00BCCE730112FA6620076268CE5CDA1FCEB69005A3800D24F4DB66E53F074F811802729733E0040E5C5E5C5C8015F9613937B83F23B278724068018014A00588014005519801EC04B220116CC0402000EAEC03519801A402B30801A802138801400170A0046A800C10001AB37FD8EB805D1C266963E95A4D1A5FF9719FEF7FDB4FB2DB29008CD2BAFA3D005CD31EB4EF2EBE4F4235DF78C66009E80293AE9310D3FCBFBCA440144580273BAEE17E55B66508803C2E0087E630F72BCD5E71B32CCFBBE2800017A2C2803D272BCBCD12BD599BC874B939004B5400964AE84A6C1E7538004CD300623AC6C882600E4328F710CC01C82D1B228980292ECD600B48E0526E506F700760CCC468012E68402324F9668028200C41E8A30E00010D8B11E62F98029801AB88039116344340004323EC48873233E72A36402504CB75006EA00084C7B895198001098D91AE2190065933AA6EB41AD0042626A93135681A400804CB54C0318032200E47B8F71C0001098810D61D8002111B228468000E5269324AD1ECF7C519B86309F35A46200A1660A280150968A4CB45365A03F3DDBAE980233407E00A80021719A1B4181006E1547D87C6008E0043337EC434C32BDE487A4AE08800D34BC3DEA974F35C20100BE723F1197F59E662FDB45824AA1D2DDCDFA2D29EBB69005072E5F2EDF3C0B244F30E0600AE00203229D229B342CC007EC95F5D6E200202615D000FB92CE7A7A402354EE0DAC0141007E20C5E87A200F4318EB0C\"\n",
    "len(inputCode)"
   ]
  },
  {
   "cell_type": "markdown",
   "metadata": {},
   "source": [
    "**Part One**"
   ]
  },
  {
   "cell_type": "code",
   "execution_count": 4,
   "metadata": {},
   "outputs": [
    {
     "name": "stdout",
     "output_type": "stream",
     "text": [
      "First three hex values converted to binary: 000000000101\n",
      "First four hex values converted to binary:  0000000001010010\n"
     ]
    }
   ],
   "source": [
    "# Parse the hexadecimal packet and convert it to binary\n",
    "def hexToBin(hexCode, lenght): return bin(int(hexCode[:lenght], 16))[2:].zfill(lenght * 4)\n",
    "\n",
    "print(\"First three hex values converted to binary:\", hexToBin(inputCode, 3))\n",
    "print(\"First four hex values converted to binary: \", hexToBin(inputCode, 4))\n",
    "\n",
    "inputCodeBin = hexToBin(inputCode, len(inputCode))"
   ]
  },
  {
   "cell_type": "code",
   "execution_count": 5,
   "metadata": {},
   "outputs": [
    {
     "name": "stdout",
     "output_type": "stream",
     "text": [
      "101110 (5, 6)\n"
     ]
    }
   ],
   "source": [
    "def readHeader(header):\n",
    "    \"\"\" Returns both the packet Version and the type ID, from a 6 bits lenght header\"\"\"\n",
    "    version, id = 0, 0\n",
    "    for i, value in enumerate(header[:6]):\n",
    "        if i < 3: version += 2 ** (2 - i) * int(value)\n",
    "        else: id += 2 ** (5 - i) * int(value)\n",
    "    return version, id\n",
    "\n",
    "print(inputCodeBin[14:20], readHeader(inputCodeBin[14:20]))\n",
    "    "
   ]
  },
  {
   "cell_type": "code",
   "execution_count": 6,
   "metadata": {},
   "outputs": [
    {
     "name": "stdout",
     "output_type": "stream",
     "text": [
      "Value of first three bits:  0\n",
      "Value of next three bits:  0\n",
      "Value of next five bits:  2\n"
     ]
    }
   ],
   "source": [
    "# Read the bin code and return its value (used for getting packet values like version, id, etc)\n",
    "def binToInt(binCode, lenght): return sum(2 ** i * int(value) for i, value in enumerate(binCode[:lenght][::-1]))\n",
    "\n",
    "print(\"Value of first three bits: \", binToInt(inputCodeBin, 3))\n",
    "print(\"Value of next three bits: \", binToInt(inputCodeBin[3:], 3))\n",
    "print(\"Value of next five bits: \", binToInt(inputCodeBin[6:], 5))"
   ]
  },
  {
   "cell_type": "code",
   "execution_count": 7,
   "metadata": {},
   "outputs": [],
   "source": [
    "# Mask the binCode assuming packet encoding\n",
    "def decodePacket(binCode):\n",
    "    \"\"\" Return the packet and the lenght of the parsed packet. The packet is represented with\n",
    "    a tuple (Version, ID, [values]), where [values] is either a list of subpackets (tuples) \n",
    "    contained in the outermost packet or a single literal value (ID == 4). \n",
    "\n",
    "    This function is recursively applied for getting all the subpackets information. \"\"\"\n",
    "\n",
    "    # Get the version and the id of the packet\n",
    "    version, id = binToInt(binCode, 3), binToInt(binCode[3:], 3)\n",
    "    ptrIndx = 6\n",
    "\n",
    "    packetValues = []\n",
    "\n",
    "    if id == 4: # Packet Literal Value\n",
    "        \n",
    "        value = 0\n",
    "\n",
    "        # Keep reading packet groups of length 4 until last group\n",
    "        while int(binCode[ptrIndx:ptrIndx+1]): \n",
    "            value = 16 * value + binToInt(binCode[ptrIndx+1:], 4)\n",
    "            ptrIndx += 5\n",
    "\n",
    "        # Read last packetGroup\n",
    "        value = 16 * value + binToInt(binCode[ptrIndx+1:], 4)\n",
    "        ptrIndx += 5\n",
    "\n",
    "        # Get rid of leading zeros\n",
    "        #ptrIndx += (4 - ptrIndx) % 4\n",
    "        \n",
    "        return (version, id, value), ptrIndx\n",
    "\n",
    "    else: # Packet Operator Value (outermost)\n",
    "\n",
    "        # Read Length Type ID\n",
    "        lengthID = int(binCode[ptrIndx:ptrIndx+1])\n",
    "        ptrIndx += 1\n",
    "\n",
    "        if lengthID == 0: # 15 bits of total packet length\n",
    "            \n",
    "            totalPacketLenght = binToInt(binCode[ptrIndx:], 15)\n",
    "            ptrIndx += 15\n",
    "\n",
    "            # Keep reading subpackets until totalPacketLenght is reached\n",
    "            finalPtrIndex = ptrIndx + totalPacketLenght\n",
    "            while ptrIndx < finalPtrIndex:\n",
    "                nextPacket, nextPtrIndx = decodePacket(binCode[ptrIndx: ])\n",
    "                packetValues.append(nextPacket)\n",
    "                ptrIndx += nextPtrIndx\n",
    "\n",
    "            # Check good parsing stop condition\n",
    "            assert ptrIndx == finalPtrIndex\n",
    "\n",
    "            return (version, id, packetValues), ptrIndx \n",
    "\n",
    "        if lengthID == 1: # 11 bits of number of subpackets\n",
    "            \n",
    "            numberOfSubPackets = binToInt(binCode[ptrIndx:], 11)\n",
    "            ptrIndx += 11\n",
    "\n",
    "            # Read the following number of subpackets\n",
    "            for j in range(numberOfSubPackets):\n",
    "                nextPacket, nextPtrIndx = decodePacket(binCode[ptrIndx: ])\n",
    "                packetValues.append(nextPacket)\n",
    "                ptrIndx += nextPtrIndx\n",
    "            \n",
    "            return (version, id, packetValues), ptrIndx \n",
    "\n",
    "    # Return (version, id, []) for not successful decoded packets\n",
    "    return (version, id, packetValues), ptrIndx "
   ]
  },
  {
   "cell_type": "code",
   "execution_count": 8,
   "metadata": {},
   "outputs": [],
   "source": [
    "# Compute the version sum of a list of paquets\n",
    "def versionSum(listOfPackets):\n",
    "    \"\"\" Return the version sum of the list of packets. Can be recursively applied! \"\"\"\n",
    "    totalSum = 0\n",
    "    for packet in listOfPackets: \n",
    "        totalSum += packet[0]\n",
    "        if type(packet[2]) == list: totalSum += versionSum(packet[2])\n",
    "    return totalSum"
   ]
  },
  {
   "cell_type": "markdown",
   "metadata": {},
   "source": [
    "**Part 1 Examples**"
   ]
  },
  {
   "cell_type": "code",
   "execution_count": 9,
   "metadata": {},
   "outputs": [
    {
     "name": "stdout",
     "output_type": "stream",
     "text": [
      "(6, 4, 2021) 6\n"
     ]
    }
   ],
   "source": [
    "# Literal Value Packet\n",
    "example1 = \"D2FE28\"\n",
    "example1Packet, example1Ptr = decodePacket(hexToBin(example1, len(example1)))\n",
    "print(example1Packet, versionSum([example1Packet]))"
   ]
  },
  {
   "cell_type": "code",
   "execution_count": 10,
   "metadata": {},
   "outputs": [
    {
     "name": "stdout",
     "output_type": "stream",
     "text": [
      "(1, 6, [(6, 4, 10), (2, 4, 20)]) 9\n"
     ]
    }
   ],
   "source": [
    "# 0 ID Operator Packet containing two subpackets \n",
    "example2 = \"38006F45291200\"\n",
    "example2Packet, example2Ptr = decodePacket(hexToBin(example2, len(example2)))\n",
    "print(example2Packet, versionSum([example2Packet]))"
   ]
  },
  {
   "cell_type": "code",
   "execution_count": 11,
   "metadata": {},
   "outputs": [
    {
     "name": "stdout",
     "output_type": "stream",
     "text": [
      "(7, 3, [(2, 4, 1), (4, 4, 2), (1, 4, 3)]) 14\n"
     ]
    }
   ],
   "source": [
    "example3 = \"EE00D40C823060\"\n",
    "example3Packet, example3Ptr = decodePacket(hexToBin(example3, len(example3)))\n",
    "print(example3Packet, versionSum([example3Packet]))"
   ]
  },
  {
   "cell_type": "code",
   "execution_count": 12,
   "metadata": {},
   "outputs": [
    {
     "name": "stdout",
     "output_type": "stream",
     "text": [
      "(4, 2, [(1, 2, [(5, 2, [(6, 4, 15)])])]) 16\n"
     ]
    }
   ],
   "source": [
    "example4 = \"8A004A801A8002F478\"\n",
    "example4Packet, example4Ptr = decodePacket(hexToBin(example4, len(example4)))\n",
    "print(example4Packet, versionSum([example4Packet]))"
   ]
  },
  {
   "cell_type": "code",
   "execution_count": 13,
   "metadata": {},
   "outputs": [
    {
     "name": "stdout",
     "output_type": "stream",
     "text": [
      "(3, 0, [(0, 0, [(0, 4, 10), (5, 4, 11)]), (1, 0, [(0, 4, 12), (3, 4, 13)])]) 12\n"
     ]
    }
   ],
   "source": [
    "example5 = \"620080001611562C8802118E34\"\n",
    "example5Packet, example5Ptr = decodePacket(hexToBin(example5, len(example5)))\n",
    "print(example5Packet, versionSum([example5Packet]))"
   ]
  },
  {
   "cell_type": "code",
   "execution_count": 14,
   "metadata": {},
   "outputs": [
    {
     "name": "stdout",
     "output_type": "stream",
     "text": [
      "(6, 0, [(0, 0, [(0, 4, 10), (6, 4, 11)]), (4, 0, [(7, 4, 12), (0, 4, 13)])]) 23\n"
     ]
    }
   ],
   "source": [
    "example6 = \"C0015000016115A2E0802F182340\"\n",
    "example6Packet, example6Ptr = decodePacket(hexToBin(example6, len(example6)))\n",
    "print(example6Packet, versionSum([example6Packet]))"
   ]
  },
  {
   "cell_type": "code",
   "execution_count": 15,
   "metadata": {},
   "outputs": [
    {
     "name": "stdout",
     "output_type": "stream",
     "text": [
      "(5, 0, [(1, 0, [(3, 0, [(7, 4, 6), (6, 4, 6), (5, 4, 12), (2, 4, 15), (2, 4, 15)])])]) 31\n"
     ]
    }
   ],
   "source": [
    "example7 = \"A0016C880162017C3686B18A3D4780\"\n",
    "example7Packet, example7Ptr = decodePacket(hexToBin(example7, len(example7)))\n",
    "print(example7Packet, versionSum([example7Packet]))"
   ]
  },
  {
   "cell_type": "code",
   "execution_count": 16,
   "metadata": {},
   "outputs": [
    {
     "data": {
      "text/plain": [
       "((6, 0, [(0, 0, [(0, 4, 10), (6, 4, 11)]), (4, 0, [(7, 4, 12), (0, 4, 13)])]),\n",
       " 106)"
      ]
     },
     "execution_count": 16,
     "metadata": {},
     "output_type": "execute_result"
    }
   ],
   "source": [
    "# Can I concatenate examples?\n",
    "example6_7 = example6 + example7\n",
    "decodePacket(hexToBin(example6_7, len(example6_7)))"
   ]
  },
  {
   "cell_type": "code",
   "execution_count": 17,
   "metadata": {},
   "outputs": [
    {
     "data": {
      "text/plain": [
       "986"
      ]
     },
     "execution_count": 17,
     "metadata": {},
     "output_type": "execute_result"
    }
   ],
   "source": [
    "inputPacket, inputPtr = decodePacket(hexToBin(inputCode, len(inputCode)))\n",
    "versionSum([inputPacket])"
   ]
  },
  {
   "cell_type": "markdown",
   "metadata": {},
   "source": [
    "**Part 2:** Calculate the value that the transmission represents"
   ]
  },
  {
   "cell_type": "code",
   "execution_count": 18,
   "metadata": {},
   "outputs": [],
   "source": [
    "def product(lst):\n",
    "    p = 1\n",
    "    for i in lst:  \n",
    "        p *= i\n",
    "    return p\n",
    "\n",
    "def calculateExpression(packet):\n",
    "    \"\"\" Return the calculated expression the list of packets represents. Can be recursively applied! \"\"\"\n",
    "    result = 0\n",
    "    packetID = packet[1]\n",
    "\n",
    "    if packetID == 4: return packet[2]                              # Literal value\n",
    "    \n",
    "    # If is an operator packet, get the value of the subpackets\n",
    "    subpackets = [calculateExpression(subpacket) for subpacket in packet[2]]\n",
    "\n",
    "    if packetID == 0: return sum(subpackets)                        # Sum\n",
    "    if packetID == 1: return product(subpackets)                    # Product\n",
    "    if packetID == 2: return min(subpackets)                        # Min\n",
    "    if packetID == 3: return max(subpackets)                        # Max\n",
    "    if packetID == 5: return int(subpackets[0] > subpackets[1])     # Greater Than\n",
    "    if packetID == 6: return int(subpackets[0] < subpackets[1])     # Lesss Than\n",
    "    if packetID == 7: return int(subpackets[0] == subpackets[1])    # Equal"
   ]
  },
  {
   "cell_type": "code",
   "execution_count": 19,
   "metadata": {},
   "outputs": [
    {
     "data": {
      "text/plain": [
       "18234816469452"
      ]
     },
     "execution_count": 19,
     "metadata": {},
     "output_type": "execute_result"
    }
   ],
   "source": [
    "calculateExpression(inputPacket)"
   ]
  }
 ],
 "metadata": {
  "interpreter": {
   "hash": "916dbcbb3f70747c44a77c7bcd40155683ae19c65e1c03b4aa3499c5328201f1"
  },
  "kernelspec": {
   "display_name": "Python 3.8.10 64-bit",
   "language": "python",
   "name": "python3"
  },
  "language_info": {
   "codemirror_mode": {
    "name": "ipython",
    "version": 3
   },
   "file_extension": ".py",
   "mimetype": "text/x-python",
   "name": "python",
   "nbconvert_exporter": "python",
   "pygments_lexer": "ipython3",
   "version": "3.8.10"
  },
  "orig_nbformat": 4
 },
 "nbformat": 4,
 "nbformat_minor": 2
}
