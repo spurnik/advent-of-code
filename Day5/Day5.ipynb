{
 "cells": [
  {
   "cell_type": "markdown",
   "metadata": {},
   "source": [
    "### Advent of Code Day 5: Hydrothermal Venture"
   ]
  },
  {
   "cell_type": "markdown",
   "metadata": {},
   "source": [
    "**Part one and two**"
   ]
  },
  {
   "cell_type": "code",
   "execution_count": 1,
   "metadata": {},
   "outputs": [],
   "source": [
    "import numpy as np"
   ]
  },
  {
   "cell_type": "code",
   "execution_count": 19,
   "metadata": {},
   "outputs": [],
   "source": [
    "# I will consider a matrix of 1000 * 1000 points (based on input)\n",
    "\n",
    "points = np.zeros((1000, 1000))\n",
    "pairPoints = []\n",
    "\n",
    "with open(\"./input\", 'r') as inputFile:\n",
    "        for line in inputFile:\n",
    "            splittedLine = line.split(\",\")\n",
    "            splittedLine2 = splittedLine[1].split(\" \")\n",
    "            x1 = int(splittedLine[0])\n",
    "            y1 = int(splittedLine2[0])\n",
    "            x2 = int(splittedLine2[-1])\n",
    "            y2 = int(splittedLine[-1].rstrip(\"\\n\"))\n",
    "            \n",
    "            minX, maxX = min(x1,x2), max(x1,x2)     \n",
    "            minY, maxY = min(y1,y2), max(y1,y2)\n",
    "            \n",
    "            # Consider only vertical or horizontal lines\n",
    "            if x1 == x2 or y1 == y2:\n",
    "                points[minX : maxX + 1, minY : maxY + 1] += 1\n",
    "\n",
    "            # Consider now also diagonal lines\n",
    "            else:\n",
    "                lenght = maxX - minX + 1\n",
    "\n",
    "                # LeftBottom to RightTop diagonal\n",
    "                if (x1 < x2 and y1 < y2) or (x1 > x2 and y1 > y2):\n",
    "                    for i in range(lenght):\n",
    "                        points[minX + i, minY + i] += 1\n",
    "\n",
    "                # RightBottom to LeftTop diagonal\n",
    "                if (x1 < x2 and y1 > y2) or (x1 > x2 and y1 < y2):\n",
    "                    for i in range(lenght):\n",
    "                        points[minX + i, maxY - i] += 1"
   ]
  },
  {
   "cell_type": "code",
   "execution_count": 20,
   "metadata": {},
   "outputs": [
    {
     "data": {
      "text/plain": [
       "(20012,)"
      ]
     },
     "execution_count": 20,
     "metadata": {},
     "output_type": "execute_result"
    }
   ],
   "source": [
    "points[points >= 2].shape"
   ]
  }
 ],
 "metadata": {
  "interpreter": {
   "hash": "916dbcbb3f70747c44a77c7bcd40155683ae19c65e1c03b4aa3499c5328201f1"
  },
  "kernelspec": {
   "display_name": "Python 3.8.10 64-bit",
   "language": "python",
   "name": "python3"
  },
  "language_info": {
   "codemirror_mode": {
    "name": "ipython",
    "version": 3
   },
   "file_extension": ".py",
   "mimetype": "text/x-python",
   "name": "python",
   "nbconvert_exporter": "python",
   "pygments_lexer": "ipython3",
   "version": "3.8.10"
  },
  "orig_nbformat": 4
 },
 "nbformat": 4,
 "nbformat_minor": 2
}
