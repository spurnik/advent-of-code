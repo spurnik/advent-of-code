{
 "cells": [
  {
   "cell_type": "markdown",
   "id": "8d32ed5a-2644-4804-951a-30bb5ab0181b",
   "metadata": {},
   "source": [
    "### Advent Of Code - Day 1: Trebuchet?!"
   ]
  },
  {
   "cell_type": "code",
   "execution_count": 88,
   "id": "679c13b4-b8a5-4e30-81bf-a3f4b5818f6e",
   "metadata": {},
   "outputs": [
    {
     "data": {
      "text/plain": [
       "['nine92jnhgqzctpgbcbpz',\n",
       " 'sevensddvc73three',\n",
       " '9986fmfqhdmq8',\n",
       " '7onexmxbzllfqb',\n",
       " 'six777']"
      ]
     },
     "execution_count": 88,
     "metadata": {},
     "output_type": "execute_result"
    }
   ],
   "source": [
    "input_data = []\n",
    "with open('./input', 'r') as file:\n",
    "    for line in file:\n",
    "        input_data.append(line[:-1])\n",
    "\n",
    "input_data[:5]"
   ]
  },
  {
   "cell_type": "code",
   "execution_count": 89,
   "id": "91b5fc31-e336-4d02-80a7-e0dca8fb44cc",
   "metadata": {},
   "outputs": [
    {
     "name": "stdout",
     "output_type": "stream",
     "text": [
      "['nine92jnhgqzctpgbcbpz', 'sevensddvc73three', '9986fmfqhdmq8', '7onexmxbzllfqb', 'six777']\n"
     ]
    },
    {
     "data": {
      "text/plain": [
       "[92, 73, 98, 77, 77]"
      ]
     },
     "execution_count": 89,
     "metadata": {},
     "output_type": "execute_result"
    }
   ],
   "source": [
    "def get_calibration_values(data):\n",
    "    calibration_values = []\n",
    "    for line in data:\n",
    "        digit_values = [int(char) for char in line if char.isdigit()]\n",
    "        calibration_values.append(digit_values[0] * 10 + digit_values[-1])\n",
    "    return calibration_values\n",
    "\n",
    "print(input_data[0:5])\n",
    "get_calibration_values(input_data[0:5])"
   ]
  },
  {
   "cell_type": "code",
   "execution_count": 90,
   "id": "1bd99443-9eb9-4c07-9034-760008ee7de7",
   "metadata": {},
   "outputs": [
    {
     "data": {
      "text/plain": [
       "54601"
      ]
     },
     "execution_count": 90,
     "metadata": {},
     "output_type": "execute_result"
    }
   ],
   "source": [
    "# Answer to the first question:\n",
    "sum(get_calibration_values(input_data))"
   ]
  },
  {
   "cell_type": "code",
   "execution_count": 130,
   "id": "a9f514b0-42d7-4439-9bd8-7edc53987e08",
   "metadata": {},
   "outputs": [
    {
     "name": "stdout",
     "output_type": "stream",
     "text": [
      "nine92jnhgqzctpgbcbpz 92\n",
      "sevensddvc73three 73\n",
      "9986fmfqhdmq8 98\n",
      "7onexmxbzllfqb 71\n",
      "six777 67\n",
      "1zbngsixxrfrpr 16\n",
      "threeeight9seven 37\n",
      "nhds975three6 96\n",
      "ninepgp9 99\n",
      "22fourninetzfourfsnxjglthreeeight 28\n"
     ]
    }
   ],
   "source": [
    "def get_calibration_values_corrected(data):\n",
    "    calibration_values = []\n",
    "    corpora_of_values = {'zero':0, 'one':1, 'two':2, 'three':3, 'four':4, 'five':5, 'six':6, 'seven':7, 'eight':8, 'nine':9, '1':1, '2':2, '3':3, '4':4, '5':5, '6':6, '7':7, '8':8, '9':9 }\n",
    "    for line in data:\n",
    "        _, left_value = min([(line.find(key), value) for key, value in corpora_of_values.items() if line.find(key) != -1], default=(0, 0))\n",
    "        _, right_value = max([(line.rfind(key), value) for key, value in corpora_of_values.items() if line.rfind(key) != -1], default=(0, 0))\n",
    "        calibration_values.append(left_value * 10 + right_value)\n",
    "    return calibration_values\n",
    "\n",
    "for line, calibration_value in zip(input_data[0:10], get_calibration_values_corrected(input_data[0:10])):\n",
    "        print(line, calibration_value)"
   ]
  },
  {
   "cell_type": "code",
   "execution_count": 131,
   "id": "57234792-8420-414c-a425-0eae27328ce6",
   "metadata": {},
   "outputs": [
    {
     "data": {
      "text/plain": [
       "54078"
      ]
     },
     "execution_count": 131,
     "metadata": {},
     "output_type": "execute_result"
    }
   ],
   "source": [
    "# Answer to the second question:\n",
    "sum(get_calibration_values_corrected(input_data))"
   ]
  }
 ],
 "metadata": {
  "kernelspec": {
   "display_name": "Python 3 (ipykernel)",
   "language": "python",
   "name": "python3"
  },
  "language_info": {
   "codemirror_mode": {
    "name": "ipython",
    "version": 3
   },
   "file_extension": ".py",
   "mimetype": "text/x-python",
   "name": "python",
   "nbconvert_exporter": "python",
   "pygments_lexer": "ipython3",
   "version": "3.11.5"
  }
 },
 "nbformat": 4,
 "nbformat_minor": 5
}
