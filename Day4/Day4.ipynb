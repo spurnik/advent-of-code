{
 "cells": [
  {
   "cell_type": "markdown",
   "metadata": {},
   "source": [
    "### Day 4: Giant Squid"
   ]
  },
  {
   "cell_type": "code",
   "execution_count": 1,
   "metadata": {},
   "outputs": [],
   "source": [
    "import numpy as np\n",
    "import pandas as pd"
   ]
  },
  {
   "cell_type": "markdown",
   "metadata": {},
   "source": [
    "**First Part**"
   ]
  },
  {
   "cell_type": "code",
   "execution_count": 45,
   "metadata": {},
   "outputs": [],
   "source": [
    "# Get the random numbers and the boards\n",
    "\n",
    "def resetBingo():\n",
    "    random_numbers = []\n",
    "    boardsList = []\n",
    "    bingosList = []\n",
    "\n",
    "    with open(\"./input\", 'r') as inputFile:\n",
    "        firstLine = True\n",
    "        added = False\n",
    "        for line in inputFile:\n",
    "\n",
    "            # First Row\n",
    "            if firstLine: \n",
    "                firstLine = False\n",
    "                random_numbers = [int(num) for num in line.split(\",\")]\n",
    "            \n",
    "            # Bingo Row\n",
    "            else:\n",
    "\n",
    "                # Add another Bingo board when line is empty (only once)\n",
    "                if line == '\\n' and not added:\n",
    "                    added = True\n",
    "                    boardsList.append([])\n",
    "                    bingosList.append([])\n",
    "\n",
    "                # Add a bingo Line to the last added bingo board when number line \n",
    "                if line[0] != '\\n':\n",
    "                    added = False\n",
    "                    boardsList[-1].append([int(num) for num in line.split(\" \") if num != \"\"])\n",
    "                    bingosList[-1].append([False for num in line.split(\" \") if num != \"\"])\n",
    "    \n",
    "    # Transform boards and bingos shaped arrays to nparrays\n",
    "    boards = [np.array(board) for board in boardsList]\n",
    "    bingos = [np.array(bingo) for bingo in bingosList]\n",
    "\n",
    "    return random_numbers, boards, bingos"
   ]
  },
  {
   "cell_type": "code",
   "execution_count": 67,
   "metadata": {},
   "outputs": [],
   "source": [
    "# Reset the bingo Game\n",
    "random, boards, bingos = resetBingo()"
   ]
  },
  {
   "cell_type": "code",
   "execution_count": 64,
   "metadata": {},
   "outputs": [
    {
     "data": {
      "text/plain": [
       "[array([[60, 79, 46,  9, 58],\n",
       "        [97, 81,  6, 94, 84],\n",
       "        [38, 40, 17, 61, 29],\n",
       "        [11, 28,  0, 91, 15],\n",
       "        [24, 77, 34, 59, 36]]),\n",
       " array([[52, 75, 98, 41, 92],\n",
       "        [73,  5, 29, 45, 62],\n",
       "        [17, 57,  0, 37, 93],\n",
       "        [59, 36, 35, 84, 18],\n",
       "        [ 7, 66, 72, 55,  9]]),\n",
       " array([[51, 83, 36,  4, 46],\n",
       "        [99,  3, 34,  2,  1],\n",
       "        [37,  5, 35, 32, 24],\n",
       "        [98, 82, 75,  0, 22],\n",
       "        [12, 91, 45, 39, 69]]),\n",
       " array([[98, 52, 56, 74,  8],\n",
       "        [ 7, 29, 20, 85, 58],\n",
       "        [51, 95, 32, 77, 72],\n",
       "        [54, 81, 37,  1, 71],\n",
       "        [ 2,  5, 66, 83, 42]]),\n",
       " array([[ 3, 60, 86, 77, 21],\n",
       "        [70, 53,  4, 57, 88],\n",
       "        [95, 50, 41, 34, 67],\n",
       "        [ 7, 13, 45, 80, 33],\n",
       "        [42,  0, 22, 63, 71]])]"
      ]
     },
     "execution_count": 64,
     "metadata": {},
     "output_type": "execute_result"
    }
   ],
   "source": [
    "# Check if the boards have been parsed correctly\n",
    "# Print 4 first boards\n",
    "boards[0:5]"
   ]
  },
  {
   "cell_type": "code",
   "execution_count": 99,
   "metadata": {},
   "outputs": [],
   "source": [
    "# Go updating each Bingo boolean for all taken numbers of each board\n",
    "\n",
    "def takeBingoNumber(number, board, bingo):\n",
    "    isBingo = False\n",
    "    for i, row in enumerate(board):\n",
    "        for j, value in enumerate(row):\n",
    "            if value == number: \n",
    "                bingo[i][j] = True\n",
    "                isBingo += bingo[i,:].all() | bingo[:,j].all()\n",
    "\n",
    "    # Bingo call if with this move we've filled any row or any the column\n",
    "    return isBingo\n"
   ]
  },
  {
   "cell_type": "code",
   "execution_count": 57,
   "metadata": {},
   "outputs": [
    {
     "name": "stdout",
     "output_type": "stream",
     "text": [
      "[[60 79 46  9 58]\n",
      " [97 81  6 94 84]\n",
      " [38 40 17 61 29]\n",
      " [11 28  0 91 15]\n",
      " [24 77 34 59 36]]\n",
      "[[False  True False False False]\n",
      " [False False False False False]\n",
      " [False False False False False]\n",
      " [False False False False False]\n",
      " [False False False False False]]\n",
      "\n",
      "[[56 35 68 58 84]\n",
      " [62 74 81 79 64]\n",
      " [10 12 73 51 76]\n",
      " [36 41 37 17 70]\n",
      " [18 50 87 69 95]]\n",
      "[[False False False False False]\n",
      " [False False False  True False]\n",
      " [False False False False False]\n",
      " [False False False False False]\n",
      " [False False False False False]]\n",
      "\n",
      "[[46 89 75 79 19]\n",
      " [67 45 34 47 90]\n",
      " [72 60 68 42  8]\n",
      " [ 0 88 12 29 40]\n",
      " [ 9 99 66 43 94]]\n",
      "[[False False False  True False]\n",
      " [False False False False False]\n",
      " [False False False False False]\n",
      " [False False False False False]\n",
      " [False False False False False]]\n",
      "\n",
      "[[77 15 50 52 79]\n",
      " [98 71 48 68 93]\n",
      " [41 97 39 58 99]\n",
      " [40  3 91 96  7]\n",
      " [82 89 33 65  1]]\n",
      "[[False False False False  True]\n",
      " [False False False False False]\n",
      " [False False False False False]\n",
      " [False False False False False]\n",
      " [False False False False False]]\n",
      "\n",
      "[[51 38 12 83 74]\n",
      " [37 52 29  2 35]\n",
      " [99 54  3 20 44]\n",
      " [23 66 59 72 50]\n",
      " [88  6 79 24 67]]\n",
      "[[False False False False False]\n",
      " [False False False False False]\n",
      " [False False False False False]\n",
      " [False False False False False]\n",
      " [False False  True False False]]\n",
      "\n",
      "[[31 77 92 20 14]\n",
      " [52 83 50  6 97]\n",
      " [70 76 53 67 79]\n",
      " [ 1 98 96 65 34]\n",
      " [19 66 13 56 89]]\n",
      "[[False False False False False]\n",
      " [False False False False False]\n",
      " [False False False False  True]\n",
      " [False False False False False]\n",
      " [False False False False False]]\n",
      "\n",
      "[[32  5 55 44 71]\n",
      " [ 2 29 67 93 64]\n",
      " [18 58  7  4 13]\n",
      " [28 51 91 79 53]\n",
      " [77 80 20 19 30]]\n",
      "[[False False False False False]\n",
      " [False False False False False]\n",
      " [False False False False False]\n",
      " [False False False  True False]\n",
      " [False False False False False]]\n",
      "\n",
      "[[ 2 35 87 96 11]\n",
      " [40 62 39 22 74]\n",
      " [19  8 58 33  6]\n",
      " [26 79 37  0 82]\n",
      " [30 88  5 47 72]]\n",
      "[[False False False False False]\n",
      " [False False False False False]\n",
      " [False False False False False]\n",
      " [False  True False False False]\n",
      " [False False False False False]]\n",
      "\n",
      "[[ 8 33  6 38 12]\n",
      " [32 75 19 13 27]\n",
      " [ 5 58 51 61 42]\n",
      " [81 72  3 91 55]\n",
      " [37 97 79 87 30]]\n",
      "[[False False False False False]\n",
      " [False False False False False]\n",
      " [False False False False False]\n",
      " [False False False False False]\n",
      " [False False  True False False]]\n",
      "\n",
      "[[33 86 85 61 66]\n",
      " [51 46  7 12 19]\n",
      " [92 32 69  5 26]\n",
      " [64 99 79 63 37]\n",
      " [ 4 52 54 38 16]]\n",
      "[[False False False False False]\n",
      " [False False False False False]\n",
      " [False False False False False]\n",
      " [False False  True False False]\n",
      " [False False False False False]]\n",
      "\n",
      "[[54 26 15 74  0]\n",
      " [ 7 71 63 61 86]\n",
      " [18 79 65 57 14]\n",
      " [ 9 82 81 47 78]\n",
      " [24 12 20 10 76]]\n",
      "[[False False False False False]\n",
      " [False False False False False]\n",
      " [False  True False False False]\n",
      " [False False False False False]\n",
      " [False False False False False]]\n",
      "\n",
      "[[87 31 73 71  3]\n",
      " [ 4 39 64 13 93]\n",
      " [91 82 75 43 35]\n",
      " [72 89 24 11 36]\n",
      " [32 79 80 17 98]]\n",
      "[[False False False False False]\n",
      " [False False False False False]\n",
      " [False False False False False]\n",
      " [False False False False False]\n",
      " [False  True False False False]]\n",
      "\n",
      "[[27 70 79 26 36]\n",
      " [78 23 73 84 85]\n",
      " [75 32 41 14 87]\n",
      " [68 99 34 93 61]\n",
      " [62 86 49  9 77]]\n",
      "[[False False  True False False]\n",
      " [False False False False False]\n",
      " [False False False False False]\n",
      " [False False False False False]\n",
      " [False False False False False]]\n",
      "\n",
      "[[79 26 92 61 24]\n",
      " [73 96 86 19 88]\n",
      " [54 98 46 14 48]\n",
      " [78 30 39  9 66]\n",
      " [56 40 11 41  1]]\n",
      "[[ True False False False False]\n",
      " [False False False False False]\n",
      " [False False False False False]\n",
      " [False False False False False]\n",
      " [False False False False False]]\n",
      "\n",
      "[[37  0 63 71 57]\n",
      " [21  6 14 52 20]\n",
      " [16 36 83 76 92]\n",
      " [32 25 79  2 84]\n",
      " [27 89 34 99  3]]\n",
      "[[False False False False False]\n",
      " [False False False False False]\n",
      " [False False False False False]\n",
      " [False False  True False False]\n",
      " [False False False False False]]\n",
      "\n",
      "[[31 39 36  5 92]\n",
      " [72 66 28  8 63]\n",
      " [ 7 20 85 55 79]\n",
      " [89 90 81 94 12]\n",
      " [59 44 40 65 46]]\n",
      "[[False False False False False]\n",
      " [False False False False False]\n",
      " [False False False False  True]\n",
      " [False False False False False]\n",
      " [False False False False False]]\n",
      "\n",
      "[[68  4 32 82 34]\n",
      " [95 43 70 74 77]\n",
      " [23 89 94 61 22]\n",
      " [88 51 39 90 75]\n",
      " [56  9 65 29 79]]\n",
      "[[False False False False False]\n",
      " [False False False False False]\n",
      " [False False False False False]\n",
      " [False False False False False]\n",
      " [False False False False  True]]\n",
      "\n",
      "[[23 11 51 45  1]\n",
      " [40 63 21 43 37]\n",
      " [64 28 84 22  9]\n",
      " [86 39 77 48 61]\n",
      " [10 13 15 60 79]]\n",
      "[[False False False False False]\n",
      " [False False False False False]\n",
      " [False False False False False]\n",
      " [False False False False False]\n",
      " [False False False False  True]]\n",
      "\n",
      "[[39 43 23 79 29]\n",
      " [33  1 24 88  8]\n",
      " [61 90 73 92 97]\n",
      " [95 86 77 99 27]\n",
      " [25 41 69 70 64]]\n",
      "[[False False False  True False]\n",
      " [False False False False False]\n",
      " [False False False False False]\n",
      " [False False False False False]\n",
      " [False False False False False]]\n",
      "\n",
      "[[89 74 98 37 64]\n",
      " [51 85 33 38 96]\n",
      " [54 41 11 52 86]\n",
      " [ 2 99 25 17 26]\n",
      " [35 57 95 79  6]]\n",
      "[[False False False False False]\n",
      " [False False False False False]\n",
      " [False False False False False]\n",
      " [False False False False False]\n",
      " [False False False  True False]]\n",
      "\n",
      "[[67  2 10 69 32]\n",
      " [16 27 76 92 90]\n",
      " [49 79 14 61 84]\n",
      " [43  8 75 56 31]\n",
      " [21 77 36 86 13]]\n",
      "[[False False False False False]\n",
      " [False False False False False]\n",
      " [False  True False False False]\n",
      " [False False False False False]\n",
      " [False False False False False]]\n",
      "\n",
      "[[35 60 79 33 43]\n",
      " [72  3 20 74 57]\n",
      " [98 76 38 17 51]\n",
      " [14  4 12 10 90]\n",
      " [ 6 55  5 93 36]]\n",
      "[[False False  True False False]\n",
      " [False False False False False]\n",
      " [False False False False False]\n",
      " [False False False False False]\n",
      " [False False False False False]]\n",
      "\n",
      "[[15 38 98 76 95]\n",
      " [ 4 48 39 35 58]\n",
      " [19 44 55 17 94]\n",
      " [37 16 61 28 49]\n",
      " [33 79 67 54 96]]\n",
      "[[False False False False False]\n",
      " [False False False False False]\n",
      " [False False False False False]\n",
      " [False False False False False]\n",
      " [False  True False False False]]\n",
      "\n",
      "[[18 84  1 37 97]\n",
      " [92 38 79 23 45]\n",
      " [39 59 17 62 77]\n",
      " [13 36  5 90 71]\n",
      " [51 21 94 34 70]]\n",
      "[[False False False False False]\n",
      " [False False  True False False]\n",
      " [False False False False False]\n",
      " [False False False False False]\n",
      " [False False False False False]]\n",
      "\n",
      "[[24 76 65 37 64]\n",
      " [75  0 79 53  6]\n",
      " [32 46 55 27 81]\n",
      " [23 45 86 96 15]\n",
      " [99  5 95 59 82]]\n",
      "[[False False False False False]\n",
      " [False False  True False False]\n",
      " [False False False False False]\n",
      " [False False False False False]\n",
      " [False False False False False]]\n",
      "\n",
      "[[11 64  5  4 68]\n",
      " [44 97 52 96 87]\n",
      " [ 6 22 27 47 94]\n",
      " [78 79 84 54 24]\n",
      " [89 16 77 37 20]]\n",
      "[[False False False False False]\n",
      " [False False False False False]\n",
      " [False False False False False]\n",
      " [False  True False False False]\n",
      " [False False False False False]]\n",
      "\n",
      "[[80 73 21 62 64]\n",
      " [30 86 15 26 91]\n",
      " [45 69 37 17 84]\n",
      " [78 41 47 67 33]\n",
      " [82  6 79 20 83]]\n",
      "[[False False False False False]\n",
      " [False False False False False]\n",
      " [False False False False False]\n",
      " [False False False False False]\n",
      " [False False  True False False]]\n",
      "\n"
     ]
    }
   ],
   "source": [
    "for board, bingo in zip(boards, bingos):\n",
    "    alreadyPrinted = False\n",
    "    for row in bingo:\n",
    "        if True in row and not alreadyPrinted:\n",
    "            alreadyPrinted = True\n",
    "            print(board)\n",
    "            print(bingo)\n",
    "            print()"
   ]
  },
  {
   "cell_type": "code",
   "execution_count": 100,
   "metadata": {},
   "outputs": [
    {
     "name": "stdout",
     "output_type": "stream",
     "text": [
      "Bingo!\n"
     ]
    }
   ],
   "source": [
    "# Let's Play!\n",
    "random, boards, bingos = resetBingo()\n",
    "\n",
    "winnerBoard = None\n",
    "winnerBingo = None\n",
    "someoneHasWon = False\n",
    "\n",
    "# For each bingoNumber\n",
    "for bingoNumber in random:\n",
    "\n",
    "    # Take the number for all the bingo boards\n",
    "    for board, bingo in zip(boards, bingos):\n",
    "        if takeBingoNumber(bingoNumber, board, bingo):\n",
    "            someoneHasWon = True\n",
    "            winnerBoard = board\n",
    "            winnerBingo = bingo\n",
    "            print(\"Bingo!\")\n",
    "    \n",
    "    # If someone has won, end iteration\n",
    "    if someoneHasWon: break"
   ]
  },
  {
   "cell_type": "code",
   "execution_count": 101,
   "metadata": {},
   "outputs": [
    {
     "data": {
      "text/plain": [
       "array([[59, 22, 70, 86, 99],\n",
       "       [39, 14, 89, 75, 42],\n",
       "       [12, 87, 55, 67, 28],\n",
       "       [71, 26, 11, 31, 65],\n",
       "       [73, 74, 58, 46, 94]])"
      ]
     },
     "execution_count": 101,
     "metadata": {},
     "output_type": "execute_result"
    }
   ],
   "source": [
    "winnerBoard"
   ]
  },
  {
   "cell_type": "code",
   "execution_count": 102,
   "metadata": {},
   "outputs": [
    {
     "data": {
      "text/plain": [
       "array([[ True, False, False, False,  True],\n",
       "       [ True,  True, False, False, False],\n",
       "       [ True, False, False, False, False],\n",
       "       [ True, False, False, False, False],\n",
       "       [ True,  True, False, False,  True]])"
      ]
     },
     "execution_count": 102,
     "metadata": {},
     "output_type": "execute_result"
    }
   ],
   "source": [
    "winnerBingo"
   ]
  },
  {
   "cell_type": "code",
   "execution_count": 103,
   "metadata": {},
   "outputs": [
    {
     "name": "stdout",
     "output_type": "stream",
     "text": [
      "33462\n"
     ]
    }
   ],
   "source": [
    "# score: bingoNumber * sum of all not called numbers (opposite of winnerBingo)\n",
    "winnerScore = bingoNumber * winnerBoard[np.where(winnerBingo, False, True)].sum()\n",
    "print(winnerScore)"
   ]
  },
  {
   "cell_type": "markdown",
   "metadata": {},
   "source": [
    "**Second Part**"
   ]
  },
  {
   "cell_type": "code",
   "execution_count": 110,
   "metadata": {},
   "outputs": [],
   "source": [
    "# Which will be the score of the looser board?\n",
    "random, boards, bingos = resetBingo()\n",
    "\n",
    "winnerBoards = []\n",
    "winnerNumbers= []\n",
    "\n",
    "# For each bingoNumber\n",
    "for bingoNumber in random:\n",
    "\n",
    "    index = 0\n",
    "\n",
    "    # Take the number for all the bingo boards\n",
    "    for board, bingo in zip(boards, bingos):\n",
    "\n",
    "        # Only take in account the boards which haven't already won\n",
    "        if index not in winnerBoards:\n",
    "\n",
    "            # If someone wins, append him on the winnerBoard list\n",
    "            if takeBingoNumber(bingoNumber, board, bingo): \n",
    "                winnerBoards.append(index)\n",
    "                winnerNumbers.append(bingoNumber)\n",
    "\n",
    "        index+=1"
   ]
  },
  {
   "cell_type": "code",
   "execution_count": 111,
   "metadata": {},
   "outputs": [
    {
     "data": {
      "text/plain": [
       "91"
      ]
     },
     "execution_count": 111,
     "metadata": {},
     "output_type": "execute_result"
    }
   ],
   "source": [
    "# And the last board to win is...\n",
    "winnerBoards[-1]"
   ]
  },
  {
   "cell_type": "code",
   "execution_count": 113,
   "metadata": {},
   "outputs": [
    {
     "data": {
      "text/plain": [
       "30070"
      ]
     },
     "execution_count": 113,
     "metadata": {},
     "output_type": "execute_result"
    }
   ],
   "source": [
    "# Last winner's (looser) score\n",
    "winnerNumbers[-1] * boards[winnerBoards[-1]][np.where(bingos[winnerBoards[-1]], False, True)].sum()"
   ]
  }
 ],
 "metadata": {
  "interpreter": {
   "hash": "916dbcbb3f70747c44a77c7bcd40155683ae19c65e1c03b4aa3499c5328201f1"
  },
  "kernelspec": {
   "display_name": "Python 3.8.10 64-bit",
   "language": "python",
   "name": "python3"
  },
  "language_info": {
   "codemirror_mode": {
    "name": "ipython",
    "version": 3
   },
   "file_extension": ".py",
   "mimetype": "text/x-python",
   "name": "python",
   "nbconvert_exporter": "python",
   "pygments_lexer": "ipython3",
   "version": "3.8.10"
  },
  "orig_nbformat": 4
 },
 "nbformat": 4,
 "nbformat_minor": 2
}
