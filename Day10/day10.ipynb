{
 "cells": [
  {
   "cell_type": "markdown",
   "metadata": {},
   "source": [
    "### AdventOfCode Day 10: Syntax Scoring"
   ]
  },
  {
   "cell_type": "markdown",
   "metadata": {},
   "source": [
    "**Part One**"
   ]
  },
  {
   "cell_type": "code",
   "execution_count": 23,
   "metadata": {},
   "outputs": [
    {
     "data": {
      "text/plain": [
       "94"
      ]
     },
     "execution_count": 23,
     "metadata": {},
     "output_type": "execute_result"
    }
   ],
   "source": [
    "# Fetch the lines\n",
    "with open(\"./input\") as file:\n",
    "    lines = [line for line in file ]\n",
    "\n",
    "len(lines)"
   ]
  },
  {
   "cell_type": "code",
   "execution_count": 24,
   "metadata": {},
   "outputs": [],
   "source": [
    "openingChunks = \"([{<\"\n",
    "closingChunks = \")]}>\"\n",
    "\n",
    "openingClosingDict = {'(' : ')', '[' : ']', '{' : '}', '<' : '>' }\n",
    "closingOpeningDict = {')' : '(', ']' : '[', '}' : '{', '>' : '<' }\n",
    "\n",
    "badChunks = []  # List of bad chunks for each line\n",
    "\n",
    "for line in lines:\n",
    "\n",
    "    # Chunk Stack counter\n",
    "    chunkStack = []\n",
    "\n",
    "    for chunk in line:\n",
    "\n",
    "        # Append the opening chunck symbol\n",
    "        if chunk in openingChunks: #stacks[chunk] += 1\n",
    "            chunkStack.append(chunk)\n",
    "\n",
    "        # If it's a closing Chunk, \n",
    "        if chunk in closingChunks:\n",
    "\n",
    "            # Get the corresponding opening chunk\n",
    "            openingChunk = closingOpeningDict[chunk]\n",
    "\n",
    "            # If there's no opening Chunks to pop, it's the corrupted one\n",
    "            if not chunkStack or chunkStack[-1] != openingChunk:\n",
    "                badChunks.append(chunk)\n",
    "                break\n",
    "\n",
    "            # If it's not corrupted, pop the last opening chunk from its stack \n",
    "            else: chunkStack.pop()"
   ]
  },
  {
   "cell_type": "code",
   "execution_count": 25,
   "metadata": {},
   "outputs": [
    {
     "data": {
      "text/plain": [
       "168417"
      ]
     },
     "execution_count": 25,
     "metadata": {},
     "output_type": "execute_result"
    }
   ],
   "source": [
    "# Compute the total syntax error score from the bad Chunks dictionaries\n",
    "\n",
    "badChunkValues = { ')': 3, ']': 57, '}' : 1197, '>' : 25137 }\n",
    "syntax_score = 0\n",
    "\n",
    "for chunk in badChunks: \n",
    "    syntax_score += badChunkValues[chunk]\n",
    "\n",
    "syntax_score"
   ]
  },
  {
   "cell_type": "markdown",
   "metadata": {},
   "source": [
    "**Part Two**"
   ]
  },
  {
   "cell_type": "code",
   "execution_count": 26,
   "metadata": {},
   "outputs": [],
   "source": [
    "# Same code as before in a line test form\n",
    "\n",
    "def lineValidator(line):\n",
    "    # Chunk Stack counter\n",
    "    chunkStack = []\n",
    "\n",
    "    for chunk in line:\n",
    "\n",
    "        # Append the opening chunck symbol\n",
    "        if chunk in openingChunks:\n",
    "            chunkStack.append(chunk)\n",
    "\n",
    "        # If it's a closing Chunk, \n",
    "        if chunk in closingChunks:\n",
    "\n",
    "            # Get the corresponding opening chunk\n",
    "            openingChunk = closingOpeningDict[chunk]\n",
    "\n",
    "            # If there's no opening Chunks to pop, it's the corrupted one\n",
    "            if not chunkStack or chunkStack[-1] != openingChunk: return False\n",
    "\n",
    "            # If it's not corrupted, pop the last opening chunk from its stack \n",
    "            else: chunkStack.pop()\n",
    "    \n",
    "    return True"
   ]
  },
  {
   "cell_type": "code",
   "execution_count": 27,
   "metadata": {},
   "outputs": [
    {
     "data": {
      "text/plain": [
       "47"
      ]
     },
     "execution_count": 27,
     "metadata": {},
     "output_type": "execute_result"
    }
   ],
   "source": [
    "correctLines = list(filter(lineValidator, lines))\n",
    "len(correctLines)"
   ]
  },
  {
   "cell_type": "code",
   "execution_count": 30,
   "metadata": {},
   "outputs": [],
   "source": [
    "# For each correct line, \n",
    "completingChunks = []\n",
    "\n",
    "# For each correct Line, \n",
    "for line in correctLines:\n",
    "\n",
    "    # Again, stack the chunks\n",
    "    chunkStack = []\n",
    "\n",
    "    for chunk in line:\n",
    "        # Append the opening chunck symbol\n",
    "        if chunk in openingChunks:\n",
    "            chunkStack.append(chunk)\n",
    "\n",
    "        # If it's a closing Chunk, \n",
    "        if chunk in closingChunks:\n",
    "\n",
    "            # Get the corresponding opening chunk\n",
    "            openingChunk = closingOpeningDict[chunk]\n",
    "\n",
    "            # Pop the last opening chunk from its stack \n",
    "            chunkStack.pop()\n",
    "\n",
    "    # After getting the chunk stack, append the closing chunks\n",
    "    completingChunks.append([openingClosingDict[chunk] for chunk in chunkStack[::-1]])\n",
    "    "
   ]
  },
  {
   "cell_type": "code",
   "execution_count": 32,
   "metadata": {},
   "outputs": [
    {
     "data": {
      "text/plain": [
       "2802519786"
      ]
     },
     "execution_count": 32,
     "metadata": {},
     "output_type": "execute_result"
    }
   ],
   "source": [
    "\n",
    "closeChunkValues = { ')': 1, ']': 2, '}' : 3, '>' : 4 }\n",
    "\n",
    "def score(closingChunks):\n",
    "    score = 0\n",
    "    for i, chunk in enumerate(closingChunks):\n",
    "        score = 5 * score + closeChunkValues[chunk]\n",
    "    return score\n",
    "\n",
    "scores = [ score(chunks) for chunks in completingChunks if chunks ]\n",
    "scores.sort()\n",
    "scores[len(scores) // 2]"
   ]
  },
  {
   "cell_type": "code",
   "execution_count": null,
   "metadata": {},
   "outputs": [],
   "source": []
  }
 ],
 "metadata": {
  "interpreter": {
   "hash": "916dbcbb3f70747c44a77c7bcd40155683ae19c65e1c03b4aa3499c5328201f1"
  },
  "kernelspec": {
   "display_name": "Python 3.8.10 64-bit",
   "language": "python",
   "name": "python3"
  },
  "language_info": {
   "codemirror_mode": {
    "name": "ipython",
    "version": 3
   },
   "file_extension": ".py",
   "mimetype": "text/x-python",
   "name": "python",
   "nbconvert_exporter": "python",
   "pygments_lexer": "ipython3",
   "version": "3.8.10"
  },
  "orig_nbformat": 4
 },
 "nbformat": 4,
 "nbformat_minor": 2
}
