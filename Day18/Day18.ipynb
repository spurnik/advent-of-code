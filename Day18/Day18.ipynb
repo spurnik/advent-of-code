{
 "cells": [
  {
   "cell_type": "markdown",
   "metadata": {},
   "source": [
    "### Advent Of Code Day 18: snailFishFish\n",
    "\n",
    "**Part One: snailFishfish math addition**"
   ]
  },
  {
   "cell_type": "code",
   "execution_count": 539,
   "metadata": {},
   "outputs": [],
   "source": [
    "# Add comma to all the last line's characters\n",
    "! sed -e 's/$/&,/g' input > input2"
   ]
  },
  {
   "cell_type": "code",
   "execution_count": 607,
   "metadata": {},
   "outputs": [],
   "source": [
    "# Because I don't want to parse all the string lists, better to manually copy them: \n",
    "\n",
    "snailFishInput = [  [1,[[9,[5,8]],[[2,0],0]]],\n",
    "                    [[[6,4],6],[[1,[7,3]],[[0,1],[4,9]]]],\n",
    "                    [[[7,3],[8,6]],[[4,[1,2]],7]],\n",
    "                    [[[2,[4,5]],[[7,1],2]],1],\n",
    "                    [[[[4,4],[4,6]],9],[[4,2],6]],\n",
    "                    [[[9,8],[[4,0],0]],[[2,[5,1]],[[9,6],[9,2]]]],\n",
    "                    [[[6,[9,0]],0],[6,[[5,8],3]]],\n",
    "                    [[[[7,3],[5,4]],0],[3,[[0,6],3]]],\n",
    "                    [5,[[0,0],[[4,8],[8,6]]]],\n",
    "                    [[[3,[9,2]],9],[5,[0,6]]],\n",
    "                    [[[[6,3],[3,2]],[5,9]],2],\n",
    "                    [[[0,4],7],[8,[8,[4,2]]]],\n",
    "                    [[[8,[8,0]],9],[[1,[6,3]],[4,2]]],\n",
    "                    [[[[5,4],[1,5]],[1,3]],[[[9,0],[7,4]],9]],\n",
    "                    [[[5,[4,2]],[[9,2],3]],[[[6,2],[6,8]],[[2,4],[9,4]]]],\n",
    "                    [[9,6],[0,[[1,1],9]]],\n",
    "                    [[[8,[5,9]],[2,9]],[0,[[7,6],[7,6]]]],\n",
    "                    [[[5,[4,8]],[[7,7],[2,2]]],[[[2,6],[5,7]],[0,[6,2]]]],\n",
    "                    [[[[9,3],5],3],[[[1,5],2],[3,3]]],\n",
    "                    [[[2,[1,1]],[[5,8],[7,1]]],[[9,7],5]],\n",
    "                    [[9,9],3],\n",
    "                    [[[5,[6,1]],9],[1,[9,3]]],\n",
    "                    [[[[1,2],7],[[6,8],[4,1]]],[[2,3],[6,3]]],\n",
    "                    [[[[9,3],[7,9]],2],[[9,[3,4]],[[2,6],[7,0]]]],\n",
    "                    [[8,[4,9]],[[2,[5,6]],6]],\n",
    "                    [3,[[[9,7],7],[[2,6],4]]],\n",
    "                    [[[[3,4],[0,8]],[[6,4],[2,6]]],[[[1,4],[5,4]],8]],\n",
    "                    [8,[[0,[5,5]],[[1,2],1]]],\n",
    "                    [[[5,[8,1]],[[1,8],[4,0]]],[8,8]],\n",
    "                    [[[9,5],3],[[7,9],[1,6]]],\n",
    "                    [[[[1,1],1],[[2,0],[2,5]]],5],\n",
    "                    [[3,[[5,4],[7,4]]],[[4,4],[1,9]]],\n",
    "                    [[0,[[7,4],[7,2]]],[[8,0],[5,9]]],\n",
    "                    [0,[[[1,2],4],[[1,0],[6,4]]]],\n",
    "                    [[[[6,6],[9,8]],3],[[[5,5],[1,6]],[8,[5,3]]]],\n",
    "                    [[7,[[5,6],0]],[5,[[9,2],4]]],\n",
    "                    [[[4,[4,5]],[7,[4,5]]],[[[9,8],8],[[8,2],[3,0]]]],\n",
    "                    [[[8,[0,5]],[[0,4],[8,9]]],[8,[4,6]]],\n",
    "                    [[[4,[9,7]],[[7,4],[7,1]]],[[[8,4],0],[[6,9],[9,0]]]],\n",
    "                    [[3,6],[[3,[4,6]],[[6,0],0]]],\n",
    "                    [3,[1,[[4,0],1]]],\n",
    "                    [[[9,9],[0,[6,3]]],[3,2]],\n",
    "                    [7,4],\n",
    "                    [2,6],\n",
    "                    [[[3,[7,8]],7],[[0,[2,5]],[1,1]]],\n",
    "                    [0,5],\n",
    "                    [8,[8,[[2,4],5]]],\n",
    "                    [[[[8,2],1],[9,0]],[[[0,8],[3,0]],9]],\n",
    "                    [[[[7,0],1],[[0,1],[6,7]]],[[[3,1],[8,3]],7]],\n",
    "                    [8,0],\n",
    "                    [[[7,[1,3]],[7,[7,2]]],[[9,0],4]],\n",
    "                    [[[[0,3],5],[[1,0],8]],[[0,2],9]],\n",
    "                    [[5,[[7,6],[7,2]]],5],\n",
    "                    [[[[2,8],[5,4]],[1,6]],[[8,8],[[5,2],4]]],\n",
    "                    [[[[1,5],[1,8]],1],[[6,[2,4]],5]],\n",
    "                    [[[[9,7],[6,3]],2],[[3,[4,4]],[3,4]]],\n",
    "                    [[[9,2],[2,9]],[[[0,7],[0,8]],[[0,2],[6,7]]]],\n",
    "                    [[[[1,1],3],[[1,4],[8,9]]],[[8,[8,6]],[7,7]]],\n",
    "                    [5,[[1,[8,8]],[6,3]]],\n",
    "                    [[[1,4],3],7],\n",
    "                    [[[[0,1],[2,0]],2],[[8,8],7]],\n",
    "                    [[[[2,8],[4,4]],[[5,6],8]],[[[5,3],1],7]],\n",
    "                    [[9,[0,[8,3]]],[5,6]],\n",
    "                    [[[0,[8,9]],[6,[8,1]]],[[[2,3],8],[[4,0],8]]],\n",
    "                    [[2,[5,4]],[[7,4],[[5,0],3]]],\n",
    "                    [[[[1,1],2],[[3,0],[7,7]]],[[1,[3,8]],2]],\n",
    "                    [[[1,4],[6,[2,4]]],[[5,5],0]],\n",
    "                    [[[[4,4],8],[[4,3],[3,5]]],[[7,1],2]],\n",
    "                    [[[4,[0,8]],9],[[[6,9],2],8]],\n",
    "                    [[[[0,0],1],[1,1]],[2,[[0,0],[7,7]]]],\n",
    "                    [[2,[5,5]],9],\n",
    "                    [[[[5,8],[7,7]],[[9,8],5]],[[3,5],[8,8]]],\n",
    "                    [[5,[3,[3,9]]],[3,[9,8]]],\n",
    "                    [[8,[4,6]],[[5,0],[9,2]]],\n",
    "                    [[[3,[1,8]],[4,5]],[[0,[5,9]],6]],\n",
    "                    [9,[[1,1],0]],\n",
    "                    [[[[6,1],[9,2]],4],[5,3]],\n",
    "                    [[[[3,0],[0,5]],[1,[5,2]]],[[[2,0],[0,2]],[[6,4],4]]],\n",
    "                    [[[[1,1],[4,6]],[[3,8],[3,2]]],[[[4,3],7],[2,[7,8]]]],\n",
    "                    [4,[[1,5],5]],\n",
    "                    [8,[[1,1],0]],\n",
    "                    [[[[8,4],[9,9]],[3,[6,6]]],[[[7,9],[9,7]],7]],\n",
    "                    [[2,5],[8,[3,8]]],\n",
    "                    [[[6,1],[7,[3,5]]],9],\n",
    "                    [[1,[[3,6],[1,0]]],[[[2,8],8],[4,[2,7]]]],\n",
    "                    [[[3,[6,9]],[[9,6],[0,8]]],[[5,[6,4]],[[3,4],1]]],\n",
    "                    [[[[7,7],1],[5,[2,5]]],[[3,7],[[4,7],3]]],\n",
    "                    [[4,[3,[7,2]]],[[[8,8],[5,8]],8]],\n",
    "                    [[3,[[9,9],6]],6],\n",
    "                    [[6,7],[2,9]],\n",
    "                    [[[9,7],[1,[4,0]]],[[[3,4],0],[1,2]]],\n",
    "                    [9,[[8,[8,4]],3]],\n",
    "                    [[[4,[4,1]],[[4,7],[2,3]]],[8,[5,[1,5]]]],\n",
    "                    [7,[2,[4,1]]],\n",
    "                    [[[[1,5],7],[5,9]],8],\n",
    "                    [[[[1,5],[0,4]],8],[[[7,0],6],[8,3]]],\n",
    "                    [[[7,[3,5]],0],[8,[9,[5,6]]]],\n",
    "                    [[1,[[5,1],5]],[[5,1],[9,[3,0]]]],\n",
    "                    [3,[[[8,5],[7,5]],[9,4]]],\n",
    "                    [[[3,3],[2,[5,9]]],7]\n",
    "                ]"
   ]
  },
  {
   "cell_type": "markdown",
   "metadata": {},
   "source": [
    "**Nested List Operations**"
   ]
  },
  {
   "cell_type": "code",
   "execution_count": 608,
   "metadata": {},
   "outputs": [],
   "source": [
    "def getElem(nestedList, nestedIndices):\n",
    "    \"\"\" Tries returning the element in the nested list pointed by the nested indices \"\"\"\n",
    "    elem = nestedList\n",
    "    for index in nestedIndices:\n",
    "        elem = elem[index]\n",
    "    return elem\n",
    "\n",
    "def lastNestedIndices(nestedList): \n",
    "    \"\"\" Return the list of indices needed for pointing the last element of a nested list \"\"\"\n",
    "    indices = [len(nestedList) -1]\n",
    "    nestedListCopy = nestedList\n",
    "\n",
    "    while type(nestedListCopy[indices[-1]]) == type(list):\n",
    "        nestedListCopy = nestedListCopy[indices[-1]]\n",
    "        indices.append(len(nestedListCopy) - 1)\n",
    "\n",
    "    return indices\n",
    "\n",
    "def firstNestedIndices(nestedList): \n",
    "    \"\"\" Return the list of indices needed for pointing the first element of a nested list \"\"\"\n",
    "    indices = [0]\n",
    "    nestedListCopy = nestedList\n",
    "\n",
    "    while type(nestedListCopy[indices[-1]]) == type(list):\n",
    "        nestedListCopy = nestedListCopy[indices[-1]]\n",
    "        indices.append(0)\n",
    "\n",
    "    return indices\n",
    "\n",
    "def getLeftNumberIndices(nestedList, nestedIndices):\n",
    "    \"\"\" Given the list of indices pointing to any sublist, return the indices \n",
    "        of the rightmost element at the left of the sublist \"\"\"\n",
    "    for i, index in enumerate(nestedIndices[::-1]):\n",
    "        if index > 0:\n",
    "            leftNumIndices = nestedIndices[: - i - 1] + [index - 1]\n",
    "            if type(getElem(nestedList, leftNumIndices)) == type(list):\n",
    "                leftNumIndices += lastNestedIndices(getElem(nestedList, leftNumIndices))\n",
    "            return leftNumIndices\n",
    "    return None\n",
    "\n",
    "def getRightNumberIndices(nestedList, nestedIndices):\n",
    "    \"\"\" Given the list of indices pointing to any sublist, return the indices \n",
    "        of the lefmost element at the right of the sublist \"\"\"\n",
    "    for i, index in enumerate(nestedIndices[::-1]):\n",
    "        nestedElem = getElem(nestedList, nestedIndices[: len(nestedIndices) - i - 1])\n",
    "        if index < len(nestedElem) - 1:\n",
    "            rightNumIndices = nestedIndices[: - i - 1] + [index + 1]\n",
    "            if type(getElem(nestedList, rightNumIndices)) == type(list):\n",
    "                rightNumIndices += firstNestedIndices(getElem(nestedList, rightNumIndices))\n",
    "            return rightNumIndices\n",
    "    return None\n"
   ]
  },
  {
   "cell_type": "code",
   "execution_count": 609,
   "metadata": {},
   "outputs": [],
   "source": [
    "# Nested operation tests \n",
    "nestedExample = [1, [[9, [5, 8]], [[2, 0], 0]]]\n",
    "\n",
    "assert getLeftNumberIndices(nestedExample, [1, 1, 0, 0]) == [1,0,1,1]   # Expected elem: 8\n",
    "assert getLeftNumberIndices(nestedExample, [0]) == None                 # Expected elem: None\n",
    "assert getRightNumberIndices(nestedExample, [1,0]) == [1,1,0,0]         # Expected elem: 2\n",
    "assert getRightNumberIndices(nestedExample, [1, 1, 1]) == None          # Expected elem: None\n",
    "assert getRightNumberIndices(nestedExample, [1]) == None                # Expected elem: None\n",
    "assert getLeftNumberIndices(nestedExample, [1]) == [0]                  # Expected elem: 1\n",
    "assert getRightNumberIndices(nestedExample, [1,0,1]) == [1,1,0,0]       # Expected elem: 2\n",
    "assert getRightNumberIndices(nestedExample, [1,0,1,0]) == [1,0,1,1]     # Expected elem: 8\n",
    "assert getLeftNumberIndices(nestedExample, [1, 0, 1, 1]) == [1,0,1,0]   # Expected elem: 5"
   ]
  },
  {
   "cell_type": "markdown",
   "metadata": {},
   "source": [
    "**SnailFish Explode Operation**"
   ]
  },
  {
   "cell_type": "code",
   "execution_count": 610,
   "metadata": {},
   "outputs": [],
   "source": [
    "# SnailFish Explode Operation\n",
    "\n",
    "def snailFishExplode(snailFishNumber):\n",
    "    \"\"\" Performs the exploting operation, if possible, over the snailFish numbers \"\"\"\n",
    "    return snailFishExplodeRecursive(snailFishNumber, level = 0, explodingIndices=[])\n",
    "    \n",
    "def snailFishExplodeRecursive(snailFishNumber, level, explodingIndices):\n",
    "    \"\"\" Recursive explode operation function. \"\"\"\n",
    "\n",
    "\n",
    "    # Get the current Level nested list (snailFishNumber if level 1)\n",
    "    currentNestedList = getElem(snailFishNumber, explodingIndices)\n",
    "\n",
    "    for i in range(len(currentNestedList)):\n",
    "        if type(currentNestedList[i]) == type(list):\n",
    "\n",
    "            # If the sublist contains an exploding list, returns (after exploting it)\n",
    "            snailFishExplodeRecursive(snailFishNumber, level + 1, explodingIndices + [i])\n",
    "        \n",
    "    # If no explosion have happened but level is 4 or more, we have to explode\n",
    "    if level >= 4: \n",
    "\n",
    "        # Get the list of the exploding list and keep the exploding list\n",
    "        listOfExplodingList = getElem(snailFishNumber, explodingIndices[:-1])\n",
    "        explodingList = listOfExplodingList[explodingIndices[-1]]\n",
    "        listOfExplodingList[explodingIndices[-1]] = 0\n",
    "        \n",
    "        # Get the indices of the left and right number of the exploding list, if any\n",
    "        leftNumberIndices = getLeftNumberIndices(snailFishNumber, explodingIndices)\n",
    "        rightNumberIndices = getRightNumberIndices(snailFishNumber, explodingIndices)\n",
    "\n",
    "        # Get the last level container sublist of the left and right numbers\n",
    "        if leftNumberIndices: leftSublist = getElem(snailFishNumber, leftNumberIndices[:-1])\n",
    "        if rightNumberIndices: rightSublist = getElem(snailFishNumber, rightNumberIndices[:-1])\n",
    "        \n",
    "        # Finally, change those numbers using the explode list\n",
    "        if leftNumberIndices: leftSublist[leftNumberIndices[-1]] += explodingList[0]\n",
    "        if rightNumberIndices: rightSublist[rightNumberIndices[-1]] += explodingList[-1]\n",
    "\n",
    "        # Indicate there's an exploded sublist\n",
    "        return True\n",
    "\n",
    "    # If no explosion have happened and level is lower than four, return False\n",
    "    return False\n"
   ]
  },
  {
   "cell_type": "code",
   "execution_count": 611,
   "metadata": {},
   "outputs": [
    {
     "data": {
      "text/plain": [
       "[[[[0, 9], 2], 3], 4]"
      ]
     },
     "execution_count": 611,
     "metadata": {},
     "output_type": "execute_result"
    }
   ],
   "source": [
    "explodeExample1 = [[[[[9,8],1],2],3],4]\n",
    "snailFishExplode(explodeExample1)\n",
    "explodeExample1"
   ]
  },
  {
   "cell_type": "code",
   "execution_count": 612,
   "metadata": {},
   "outputs": [
    {
     "data": {
      "text/plain": [
       "[7, [6, [5, [7, 0]]]]"
      ]
     },
     "execution_count": 612,
     "metadata": {},
     "output_type": "execute_result"
    }
   ],
   "source": [
    "explodeExample2 = [7,[6,[5,[4,[3,2]]]]]\n",
    "snailFishExplode(explodeExample2)\n",
    "explodeExample2"
   ]
  },
  {
   "cell_type": "code",
   "execution_count": 613,
   "metadata": {},
   "outputs": [
    {
     "data": {
      "text/plain": [
       "[[3, [2, [8, 0]]], [9, [5, [7, 0]]]]"
      ]
     },
     "execution_count": 613,
     "metadata": {},
     "output_type": "execute_result"
    }
   ],
   "source": [
    "explodeExample3 = [[3,[2,[8,0]]],[9,[5,[4,[3,2]]]]]\n",
    "snailFishExplode(explodeExample3)\n",
    "explodeExample3"
   ]
  },
  {
   "cell_type": "markdown",
   "metadata": {},
   "source": [
    "**SnailFish Split Operation**"
   ]
  },
  {
   "cell_type": "code",
   "execution_count": 614,
   "metadata": {},
   "outputs": [],
   "source": [
    "# SnailFish Split Operation\n",
    "\n",
    "def snailFishSplit(snailFishNumber):\n",
    "    \"\"\" Performs the splitting operation, if possible, over the snailFishFish numbers \"\"\"\n",
    "\n",
    "    # For each possible number, \n",
    "    for i in range(len(snailFishNumber)):\n",
    "\n",
    "        # If satisfies the splitting criteria, perform the split operation\n",
    "        if type(snailFishNumber[i]) == int and 10 <= snailFishNumber[i]: \n",
    "            splittedNumber = snailFishNumber[i]\n",
    "            snailFishNumber[i] = [splittedNumber // 2, splittedNumber // 2 + splittedNumber % 2]\n",
    "\n",
    "            # Break the operation after first split\n",
    "            return True\n",
    "\n",
    "        # If nested list, recursively call\n",
    "        if type(snailFishNumber[i]) == type(list) and snailFishSplit(snailFishNumber[i]): \n",
    "            return True\n",
    "\n",
    "    # If there have been no splits, return false\n",
    "    return False"
   ]
  },
  {
   "cell_type": "code",
   "execution_count": 615,
   "metadata": {},
   "outputs": [
    {
     "name": "stdout",
     "output_type": "stream",
     "text": [
      "[[[[0, 7], 4], [[7, 8], [0, 13]]], [1, 1]]\n",
      "[[[[0, 7], 4], [[7, 8], [0, [6, 7]]]], [1, 1]]\n"
     ]
    }
   ],
   "source": [
    "exampleSplit1 = [[[[0,7],4],[15,[0,13]]],[1,1]]\n",
    "snailFishSplit(exampleSplit1)\n",
    "print(exampleSplit1)\n",
    "snailFishSplit(exampleSplit1)\n",
    "print(exampleSplit1)"
   ]
  },
  {
   "cell_type": "markdown",
   "metadata": {},
   "source": [
    "**SnailFish Reduce Operation**"
   ]
  },
  {
   "cell_type": "code",
   "execution_count": 616,
   "metadata": {},
   "outputs": [],
   "source": [
    "def snailFishReduce(snailFishNumber):\n",
    "    \"\"\" Performs the reducing operation, by iterating throught explode and split unit operations. \"\"\"\n",
    "    explodeCondition, splitCondition = True, True\n",
    "\n",
    "    while explodeCondition or splitCondition:\n",
    "         explodeCondition = snailFishExplode(snailFishNumber)\n",
    "         splitCondition = snailFishSplit(snailFishNumber)\n",
    "\n",
    "    return snailFishNumber"
   ]
  },
  {
   "cell_type": "code",
   "execution_count": 617,
   "metadata": {},
   "outputs": [
    {
     "data": {
      "text/plain": [
       "[[[[0, 7], 4], [[7, 8], [6, 0]]], [8, 1]]"
      ]
     },
     "execution_count": 617,
     "metadata": {},
     "output_type": "execute_result"
    }
   ],
   "source": [
    "# SnailFish Reduce Exampler\n",
    "snailFishReduce([[[[[4,3],4],4],[7,[[8,4],9]]],[1,1]])"
   ]
  },
  {
   "cell_type": "markdown",
   "metadata": {},
   "source": [
    "**SnailFish Sum**"
   ]
  },
  {
   "cell_type": "code",
   "execution_count": 618,
   "metadata": {},
   "outputs": [],
   "source": [
    "# Warning: the deepcopy part is important for not reducing the inputs.\n",
    "import copy\n",
    "\n",
    "def snailFishSum(snailFishNumber1, snailFishNumber2):\n",
    "    \"\"\" SnailFish sum between two snailFishFish numbers plus reduct operation. \"\"\"\n",
    "    if not snailFishNumber1: return snailFishNumber2\n",
    "    if not snailFishNumber2: return snailFishNumber1\n",
    "    return snailFishReduce(copy.deepcopy(([snailFishNumber1] + [snailFishNumber2])))"
   ]
  },
  {
   "cell_type": "code",
   "execution_count": 619,
   "metadata": {},
   "outputs": [
    {
     "data": {
      "text/plain": [
       "[1, 2]"
      ]
     },
     "execution_count": 619,
     "metadata": {},
     "output_type": "execute_result"
    }
   ],
   "source": [
    "snailFishSum([], [1,2])"
   ]
  },
  {
   "cell_type": "code",
   "execution_count": 620,
   "metadata": {},
   "outputs": [
    {
     "data": {
      "text/plain": [
       "[[[[3, 0], [5, 3]], [4, 4]], [5, 5]]"
      ]
     },
     "execution_count": 620,
     "metadata": {},
     "output_type": "execute_result"
    }
   ],
   "source": [
    "snailFishExampleInput1 = [[1,1], [2,2], [3,3], [4,4], [5,5]]\n",
    "snailFishTotalSum = None\n",
    "for snailFishNumber in snailFishExampleInput1:\n",
    "    snailFishTotalSum = snailFishSum(snailFishTotalSum, snailFishNumber)\n",
    "snailFishTotalSum"
   ]
  },
  {
   "cell_type": "code",
   "execution_count": 621,
   "metadata": {},
   "outputs": [
    {
     "data": {
      "text/plain": [
       "[[[[5, 0], [7, 4]], [5, 5]], [6, 6]]"
      ]
     },
     "execution_count": 621,
     "metadata": {},
     "output_type": "execute_result"
    }
   ],
   "source": [
    "snailFishExampleInput1 = [[1,1], [2,2], [3,3], [4,4], [5,5], [6,6]]\n",
    "snailFishTotalSum = None\n",
    "for snailFishNumber in snailFishExampleInput1:\n",
    "    snailFishTotalSum = snailFishSum(snailFishTotalSum, snailFishNumber)\n",
    "snailFishTotalSum"
   ]
  },
  {
   "cell_type": "code",
   "execution_count": 622,
   "metadata": {},
   "outputs": [
    {
     "data": {
      "text/plain": [
       "[[[[8, 7], [7, 7]], [[8, 6], [7, 7]]], [[[0, 7], [6, 6]], [8, 7]]]"
      ]
     },
     "execution_count": 622,
     "metadata": {},
     "output_type": "execute_result"
    }
   ],
   "source": [
    "# SnailFish Large Example\n",
    "\n",
    "snailFishExampleInput2 = [ [[[0,[4,5]],[0,0]],[[[4,5],[2,6]],[9,5]]],\n",
    "                    [7,[[[3,7],[4,3]],[[6,3],[8,8]]]],\n",
    "                    [[2,[[0,8],[3,4]]],[[[6,7],1],[7,[1,6]]]],\n",
    "                    [[[[2,4],7],[6,[0,5]]],[[[6,8],[2,8]],[[2,1],[4,5]]]],\n",
    "                    [7,[5,[[3,8],[1,4]]]],\n",
    "                    [[2,[2,2]],[8,[8,1]]],\n",
    "                    [2,9],\n",
    "                    [1,[[[9,3],9],[[9,0],[0,7]]]],\n",
    "                    [[[5,[7,4]],7],1],\n",
    "                    [[[[4,2],2],6],[8,7]] ]\n",
    "\n",
    "snailFishTotalSum = None\n",
    "for snailFishNumber in snailFishExampleInput2:\n",
    "    snailFishTotalSum = snailFishSum(snailFishTotalSum, snailFishNumber)\n",
    "\n",
    "snailFishTotalSum"
   ]
  },
  {
   "cell_type": "markdown",
   "metadata": {},
   "source": [
    "**SnailFish Magnitude**: "
   ]
  },
  {
   "cell_type": "code",
   "execution_count": 623,
   "metadata": {},
   "outputs": [
    {
     "data": {
      "text/plain": [
       "143"
      ]
     },
     "execution_count": 623,
     "metadata": {},
     "output_type": "execute_result"
    }
   ],
   "source": [
    "def snailFishMagnitude(snailFishNumber):\n",
    "    \"\"\" Return the snailFish Magnitude of a snailFishFish number\"\"\"\n",
    "    totalMagnitude = 0\n",
    "\n",
    "    if type(snailFishNumber[0]) == type(list): \n",
    "        totalMagnitude += 3 * snailFishMagnitude(snailFishNumber[0])\n",
    "    else: totalMagnitude += 3 * snailFishNumber[0]\n",
    "\n",
    "    if type(snailFishNumber[-1]) == type(list):\n",
    "        totalMagnitude += 2 * snailFishMagnitude(snailFishNumber[-1])\n",
    "    else: totalMagnitude += 2 * snailFishNumber[-1] \n",
    "\n",
    "    return totalMagnitude\n",
    "\n",
    "snailFishMagnitude([[1,2],[[3,4],5]])"
   ]
  },
  {
   "cell_type": "code",
   "execution_count": 624,
   "metadata": {},
   "outputs": [
    {
     "name": "stdout",
     "output_type": "stream",
     "text": [
      "The snailFish sum of the Homework is: [[[[6, 6], [7, 6]], [[7, 7], [7, 0]]], [[[7, 7], [7, 7]], [[7, 8], [9, 9]]]]\n",
      "The snailFish Magnitude of the Sum is: 4140\n"
     ]
    }
   ],
   "source": [
    "# Homework example:\n",
    "snailFishHomework = [[[[0,[5,8]],[[1,7],[9,6]]],[[4,[1,2]],[[1,4],2]]],\n",
    "[[[5,[2,8]],4],[5,[[9,9],0]]],\n",
    "[6,[[[6,2],[5,6]],[[7,6],[4,7]]]],\n",
    "[[[6,[0,7]],[0,9]],[4,[9,[9,0]]]],\n",
    "[[[7,[6,4]],[3,[1,3]]],[[[5,5],1],9]],\n",
    "[[6,[[7,3],[3,2]]],[[[3,8],[5,7]],4]],\n",
    "[[[[5,4],[7,7]],8],[[8,3],8]],\n",
    "[[9,3],[[9,9],[6,[4,9]]]],\n",
    "[[2,[[7,7],7]],[[5,8],[[9,3],[0,2]]]],\n",
    "[[[[5,2],5],[8,[3,7]]],[[5,[7,5]],[4,4]]]]\n",
    "\n",
    "snailFishResult = []\n",
    "for snailFishNumber in snailFishHomework:\n",
    "    snailFishResult = snailFishSum(snailFishResult, snailFishNumber)\n",
    "\n",
    "print(\"The snailFish sum of the Homework is:\", snailFishResult)\n",
    "print(\"The snailFish Magnitude of the Sum is:\", snailFishMagnitude(snailFishResult))"
   ]
  },
  {
   "cell_type": "markdown",
   "metadata": {},
   "source": [
    "Finally, we're ready to compute the **magnitude of the final input sum**:"
   ]
  },
  {
   "cell_type": "code",
   "execution_count": 625,
   "metadata": {},
   "outputs": [
    {
     "name": "stdout",
     "output_type": "stream",
     "text": [
      "The snailFish sum of the Input is: [[[[7, 7], [0, 7]], [[7, 7], [8, 8]]], [[[8, 9], [9, 9]], [8, 8]]]\n",
      "The snailFish Magnitude of the Sum is: 3763\n"
     ]
    }
   ],
   "source": [
    "# Input Result\n",
    "snailFishResult = []\n",
    "for snailFishNumber in snailFishInput:\n",
    "    snailFishResult = snailFishSum(snailFishResult, snailFishNumber)\n",
    "\n",
    "print(\"The snailFish sum of the Input is:\", snailFishResult)\n",
    "print(\"The snailFish Magnitude of the Sum is:\", snailFishMagnitude(snailFishResult))"
   ]
  },
  {
   "cell_type": "markdown",
   "metadata": {},
   "source": [
    "**Part 2:** Compute the largest magnitude of any sum between two SnailFish Numbers**"
   ]
  },
  {
   "cell_type": "code",
   "execution_count": 626,
   "metadata": {},
   "outputs": [
    {
     "data": {
      "text/plain": [
       "4664"
      ]
     },
     "execution_count": 626,
     "metadata": {},
     "output_type": "execute_result"
    }
   ],
   "source": [
    "# So vague to code the max iteration myself\n",
    "from itertools import permutations\n",
    "\n",
    "snailFishBestPair =  max(permutations(snailFishInput, 2), key = lambda snailFishPair: \n",
    "        snailFishMagnitude(snailFishSum(snailFishPair[0], snailFishPair[1])))\n",
    "\n",
    "snailFishMagnitude(snailFishSum(snailFishBestPair[0], snailFishBestPair[1]))"
   ]
  }
 ],
 "metadata": {
  "interpreter": {
   "hash": "916dbcbb3f70747c44a77c7bcd40155683ae19c65e1c03b4aa3499c5328201f1"
  },
  "kernelspec": {
   "display_name": "Python 3.8.10 64-bit",
   "language": "python",
   "name": "python3"
  },
  "language_info": {
   "codemirror_mode": {
    "name": "ipython",
    "version": 3
   },
   "file_extension": ".py",
   "mimetype": "text/x-python",
   "name": "python",
   "nbconvert_exporter": "python",
   "pygments_lexer": "ipython3",
   "version": "3.8.10"
  },
  "orig_nbformat": 4
 },
 "nbformat": 4,
 "nbformat_minor": 2
}
